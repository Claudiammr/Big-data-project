{
 "cells": [
  {
   "cell_type": "code",
   "execution_count": 1,
   "id": "ad79cae3-14cd-4910-8b90-16eca9f38221",
   "metadata": {
    "tags": []
   },
   "outputs": [],
   "source": [
    "from pyspark.sql import SparkSession\n",
    "from pyspark.sql.functions import *\n",
    "\n",
    "# Create a SparkSession\n",
    "spark = SparkSession.builder.appName(\"App\").getOrCreate()\n",
    "spark.sparkContext.setLogLevel(\"WARN\")"
   ]
  },
  {
   "cell_type": "code",
   "execution_count": 3,
   "id": "32f3bbcb-6d96-4110-8993-65e1fd26c4d8",
   "metadata": {
    "tags": []
   },
   "outputs": [],
   "source": [
    "inputDf = spark.read.format(\"csv\").option(\"delimiter\", \" \").load(\"1987.csv\")"
   ]
  },
  {
   "cell_type": "code",
   "execution_count": 6,
   "id": "46a860ae-2232-471a-9cdf-db8f21a51dc9",
   "metadata": {
    "tags": []
   },
   "outputs": [
    {
     "name": "stdout",
     "output_type": "stream",
     "text": [
      "+--------------------+\n",
      "|                 _c0|\n",
      "+--------------------+\n",
      "|Year,Month,DayofM...|\n",
      "|1987,10,14,3,741,...|\n",
      "|1987,10,15,4,729,...|\n",
      "|1987,10,17,6,741,...|\n",
      "|1987,10,18,7,729,...|\n",
      "|1987,10,19,1,749,...|\n",
      "|1987,10,21,3,728,...|\n",
      "|1987,10,22,4,728,...|\n",
      "|1987,10,23,5,731,...|\n",
      "|1987,10,24,6,744,...|\n",
      "|1987,10,25,7,729,...|\n",
      "|1987,10,26,1,735,...|\n",
      "|1987,10,28,3,741,...|\n",
      "|1987,10,29,4,742,...|\n",
      "|1987,10,31,6,726,...|\n",
      "|1987,10,1,4,936,9...|\n",
      "|1987,10,2,5,918,9...|\n",
      "|1987,10,3,6,928,9...|\n",
      "|1987,10,4,7,914,9...|\n",
      "|1987,10,5,1,1042,...|\n",
      "+--------------------+\n",
      "only showing top 20 rows\n",
      "\n"
     ]
    }
   ],
   "source": [
    "inputDf.show()"
   ]
  },
  {
   "cell_type": "markdown",
   "id": "6c0e748d-08b5-4a81-bd26-5eb6b287c520",
   "metadata": {},
   "source": [
    "# Preprocessing\n",
    "- eliminate unnecesary variables\n",
    "- missing and duplicates values\n",
    "- see correlation\n",
    "- variable transformation\n",
    "- variable creation"
   ]
  },
  {
   "cell_type": "code",
   "execution_count": null,
   "id": "19529b89-a015-4f2a-a06f-1b699d5b9cb1",
   "metadata": {},
   "outputs": [],
   "source": []
  }
 ],
 "metadata": {
  "kernelspec": {
   "display_name": "pyspark_venv",
   "language": "python",
   "name": "pyspark_venv"
  },
  "language_info": {
   "codemirror_mode": {
    "name": "ipython",
    "version": 3
   },
   "file_extension": ".py",
   "mimetype": "text/x-python",
   "name": "python",
   "nbconvert_exporter": "python",
   "pygments_lexer": "ipython3",
   "version": "3.12.1"
  }
 },
 "nbformat": 4,
 "nbformat_minor": 5
}
