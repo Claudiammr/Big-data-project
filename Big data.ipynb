{
 "cells": [
  {
   "cell_type": "code",
   "outputs": [
    {
     "name": "stderr",
     "output_type": "stream",
     "text": [
      "24/01/07 21:54:14 WARN Utils: Your hostname, andreas-HP-Pavilion-Laptop-15-cs1xxx resolves to a loopback address: 127.0.1.1; using 192.168.1.61 instead (on interface wlo1)\n",
      "24/01/07 21:54:14 WARN Utils: Set SPARK_LOCAL_IP if you need to bind to another address\n",
      "Setting default log level to \"WARN\".\n",
      "To adjust logging level use sc.setLogLevel(newLevel). For SparkR, use setLogLevel(newLevel).\n",
      "24/01/07 21:54:15 WARN NativeCodeLoader: Unable to load native-hadoop library for your platform... using builtin-java classes where applicable\n"
     ]
    }
   ],
   "source": [
    "from pyspark.sql import SparkSession\n",
    "from pyspark.sql.functions import *\n",
    "\n",
    "# Create a SparkSession\n",
    "spark = SparkSession.builder.appName(\"App\").getOrCreate()\n",
    "spark.sparkContext.setLogLevel(\"WARN\")"
   ],
   "metadata": {
    "collapsed": false,
    "ExecuteTime": {
     "end_time": "2024-01-07T20:54:17.463458265Z",
     "start_time": "2024-01-07T20:54:12.932940986Z"
    }
   },
   "id": "a40d36499bbcc0a6",
   "execution_count": 1
  },
  {
   "cell_type": "markdown",
   "source": [
    "## Load CSV File with Header"
   ],
   "metadata": {
    "collapsed": false
   },
   "id": "1d1f02403b8d20b1"
  },
  {
   "cell_type": "code",
   "outputs": [
    {
     "name": "stderr",
     "output_type": "stream",
     "text": [
      "24/01/07 21:54:46 WARN SparkStringUtils: Truncated the string representation of a plan since it was too large. This behavior can be adjusted by setting 'spark.sql.debug.maxToStringFields'.\n"
     ]
    },
    {
     "name": "stdout",
     "output_type": "stream",
     "text": [
      "+----+-----+----------+---------+-------+----------+-------+----------+-------------+---------+-------+-----------------+--------------+-------+--------+--------+------+----+--------+------+-------+---------+----------------+--------+------------+------------+--------+-------------+-----------------+\n",
      "|Year|Month|DayofMonth|DayOfWeek|DepTime|CRSDepTime|ArrTime|CRSArrTime|UniqueCarrier|FlightNum|TailNum|ActualElapsedTime|CRSElapsedTime|AirTime|ArrDelay|DepDelay|Origin|Dest|Distance|TaxiIn|TaxiOut|Cancelled|CancellationCode|Diverted|CarrierDelay|WeatherDelay|NASDelay|SecurityDelay|LateAircraftDelay|\n",
      "+----+-----+----------+---------+-------+----------+-------+----------+-------------+---------+-------+-----------------+--------------+-------+--------+--------+------+----+--------+------+-------+---------+----------------+--------+------------+------------+--------+-------------+-----------------+\n",
      "|1987|10   |14        |3        |741    |730       |912    |849       |PS           |1451     |NA     |91               |79            |NA     |23      |11      |SAN   |SFO |447     |NA    |NA     |0        |NA              |0       |NA          |NA          |NA      |NA           |NA               |\n",
      "|1987|10   |15        |4        |729    |730       |903    |849       |PS           |1451     |NA     |94               |79            |NA     |14      |-1      |SAN   |SFO |447     |NA    |NA     |0        |NA              |0       |NA          |NA          |NA      |NA           |NA               |\n",
      "|1987|10   |17        |6        |741    |730       |918    |849       |PS           |1451     |NA     |97               |79            |NA     |29      |11      |SAN   |SFO |447     |NA    |NA     |0        |NA              |0       |NA          |NA          |NA      |NA           |NA               |\n",
      "|1987|10   |18        |7        |729    |730       |847    |849       |PS           |1451     |NA     |78               |79            |NA     |-2      |-1      |SAN   |SFO |447     |NA    |NA     |0        |NA              |0       |NA          |NA          |NA      |NA           |NA               |\n",
      "|1987|10   |19        |1        |749    |730       |922    |849       |PS           |1451     |NA     |93               |79            |NA     |33      |19      |SAN   |SFO |447     |NA    |NA     |0        |NA              |0       |NA          |NA          |NA      |NA           |NA               |\n",
      "|1987|10   |21        |3        |728    |730       |848    |849       |PS           |1451     |NA     |80               |79            |NA     |-1      |-2      |SAN   |SFO |447     |NA    |NA     |0        |NA              |0       |NA          |NA          |NA      |NA           |NA               |\n",
      "|1987|10   |22        |4        |728    |730       |852    |849       |PS           |1451     |NA     |84               |79            |NA     |3       |-2      |SAN   |SFO |447     |NA    |NA     |0        |NA              |0       |NA          |NA          |NA      |NA           |NA               |\n",
      "|1987|10   |23        |5        |731    |730       |902    |849       |PS           |1451     |NA     |91               |79            |NA     |13      |1       |SAN   |SFO |447     |NA    |NA     |0        |NA              |0       |NA          |NA          |NA      |NA           |NA               |\n",
      "|1987|10   |24        |6        |744    |730       |908    |849       |PS           |1451     |NA     |84               |79            |NA     |19      |14      |SAN   |SFO |447     |NA    |NA     |0        |NA              |0       |NA          |NA          |NA      |NA           |NA               |\n",
      "|1987|10   |25        |7        |729    |730       |851    |849       |PS           |1451     |NA     |82               |79            |NA     |2       |-1      |SAN   |SFO |447     |NA    |NA     |0        |NA              |0       |NA          |NA          |NA      |NA           |NA               |\n",
      "|1987|10   |26        |1        |735    |730       |904    |849       |PS           |1451     |NA     |89               |79            |NA     |15      |5       |SAN   |SFO |447     |NA    |NA     |0        |NA              |0       |NA          |NA          |NA      |NA           |NA               |\n",
      "|1987|10   |28        |3        |741    |725       |919    |855       |PS           |1451     |NA     |98               |90            |NA     |24      |16      |SAN   |SFO |447     |NA    |NA     |0        |NA              |0       |NA          |NA          |NA      |NA           |NA               |\n",
      "|1987|10   |29        |4        |742    |725       |906    |855       |PS           |1451     |NA     |84               |90            |NA     |11      |17      |SAN   |SFO |447     |NA    |NA     |0        |NA              |0       |NA          |NA          |NA      |NA           |NA               |\n",
      "|1987|10   |31        |6        |726    |725       |848    |855       |PS           |1451     |NA     |82               |90            |NA     |-7      |1       |SAN   |SFO |447     |NA    |NA     |0        |NA              |0       |NA          |NA          |NA      |NA           |NA               |\n",
      "|1987|10   |1         |4        |936    |915       |1035   |1001      |PS           |1451     |NA     |59               |46            |NA     |34      |21      |SFO   |RNO |192     |NA    |NA     |0        |NA              |0       |NA          |NA          |NA      |NA           |NA               |\n",
      "+----+-----+----------+---------+-------+----------+-------+----------+-------------+---------+-------+-----------------+--------------+-------+--------+--------+------+----+--------+------+-------+---------+----------------+--------+------------+------------+--------+-------------+-----------------+\n"
     ]
    }
   ],
   "source": [
    "# Load the CSV file with the first row as a header\n",
    "df = spark.read.format(\"csv\").option(\"delimiter\", \",\").option(\"header\", \"true\").load(\"1987.csv\")\n",
    "\n",
    "# Display the columns and the first 15 rows\n",
    "df.show(15, truncate=False)"
   ],
   "metadata": {
    "collapsed": false,
    "ExecuteTime": {
     "end_time": "2024-01-07T20:54:47.364857729Z",
     "start_time": "2024-01-07T20:54:42.509483212Z"
    }
   },
   "id": "29ddc359a0ca93d5",
   "execution_count": 2
  },
  {
   "cell_type": "code",
   "execution_count": 3,
   "id": "4e0a44fd-92a8-4c32-9acd-ba2a71946d10",
   "metadata": {
    "tags": [],
    "ExecuteTime": {
     "end_time": "2024-01-07T20:54:52.912042106Z",
     "start_time": "2024-01-07T20:54:51.599533181Z"
    }
   },
   "outputs": [
    {
     "name": "stdout",
     "output_type": "stream",
     "text": [
      "+----+-----+----------+---------+-------+----------+-------+----------+-------------+---------+-------+-----------------+--------------+-------+--------+--------+------+----+--------+------+-------+---------+----------------+--------+------------+------------+--------+-------------+-----------------+\n",
      "|Year|Month|DayofMonth|DayOfWeek|DepTime|CRSDepTime|ArrTime|CRSArrTime|UniqueCarrier|FlightNum|TailNum|ActualElapsedTime|CRSElapsedTime|AirTime|ArrDelay|DepDelay|Origin|Dest|Distance|TaxiIn|TaxiOut|Cancelled|CancellationCode|Diverted|CarrierDelay|WeatherDelay|NASDelay|SecurityDelay|LateAircraftDelay|\n",
      "+----+-----+----------+---------+-------+----------+-------+----------+-------------+---------+-------+-----------------+--------------+-------+--------+--------+------+----+--------+------+-------+---------+----------------+--------+------------+------------+--------+-------------+-----------------+\n",
      "|1987|   10|        14|        3|    741|       730|    912|       849|           PS|     1451|   NULL|               91|            79|   NULL|      23|      11|   SAN| SFO|     447|  NULL|   NULL|        0|            NULL|       0|        NULL|        NULL|    NULL|         NULL|             NULL|\n",
      "|1987|   10|        15|        4|    729|       730|    903|       849|           PS|     1451|   NULL|               94|            79|   NULL|      14|      -1|   SAN| SFO|     447|  NULL|   NULL|        0|            NULL|       0|        NULL|        NULL|    NULL|         NULL|             NULL|\n",
      "|1987|   10|        17|        6|    741|       730|    918|       849|           PS|     1451|   NULL|               97|            79|   NULL|      29|      11|   SAN| SFO|     447|  NULL|   NULL|        0|            NULL|       0|        NULL|        NULL|    NULL|         NULL|             NULL|\n",
      "|1987|   10|        18|        7|    729|       730|    847|       849|           PS|     1451|   NULL|               78|            79|   NULL|      -2|      -1|   SAN| SFO|     447|  NULL|   NULL|        0|            NULL|       0|        NULL|        NULL|    NULL|         NULL|             NULL|\n",
      "|1987|   10|        19|        1|    749|       730|    922|       849|           PS|     1451|   NULL|               93|            79|   NULL|      33|      19|   SAN| SFO|     447|  NULL|   NULL|        0|            NULL|       0|        NULL|        NULL|    NULL|         NULL|             NULL|\n",
      "|1987|   10|        21|        3|    728|       730|    848|       849|           PS|     1451|   NULL|               80|            79|   NULL|      -1|      -2|   SAN| SFO|     447|  NULL|   NULL|        0|            NULL|       0|        NULL|        NULL|    NULL|         NULL|             NULL|\n",
      "|1987|   10|        22|        4|    728|       730|    852|       849|           PS|     1451|   NULL|               84|            79|   NULL|       3|      -2|   SAN| SFO|     447|  NULL|   NULL|        0|            NULL|       0|        NULL|        NULL|    NULL|         NULL|             NULL|\n",
      "|1987|   10|        23|        5|    731|       730|    902|       849|           PS|     1451|   NULL|               91|            79|   NULL|      13|       1|   SAN| SFO|     447|  NULL|   NULL|        0|            NULL|       0|        NULL|        NULL|    NULL|         NULL|             NULL|\n",
      "|1987|   10|        24|        6|    744|       730|    908|       849|           PS|     1451|   NULL|               84|            79|   NULL|      19|      14|   SAN| SFO|     447|  NULL|   NULL|        0|            NULL|       0|        NULL|        NULL|    NULL|         NULL|             NULL|\n",
      "|1987|   10|        25|        7|    729|       730|    851|       849|           PS|     1451|   NULL|               82|            79|   NULL|       2|      -1|   SAN| SFO|     447|  NULL|   NULL|        0|            NULL|       0|        NULL|        NULL|    NULL|         NULL|             NULL|\n",
      "|1987|   10|        26|        1|    735|       730|    904|       849|           PS|     1451|   NULL|               89|            79|   NULL|      15|       5|   SAN| SFO|     447|  NULL|   NULL|        0|            NULL|       0|        NULL|        NULL|    NULL|         NULL|             NULL|\n",
      "|1987|   10|        28|        3|    741|       725|    919|       855|           PS|     1451|   NULL|               98|            90|   NULL|      24|      16|   SAN| SFO|     447|  NULL|   NULL|        0|            NULL|       0|        NULL|        NULL|    NULL|         NULL|             NULL|\n",
      "|1987|   10|        29|        4|    742|       725|    906|       855|           PS|     1451|   NULL|               84|            90|   NULL|      11|      17|   SAN| SFO|     447|  NULL|   NULL|        0|            NULL|       0|        NULL|        NULL|    NULL|         NULL|             NULL|\n",
      "|1987|   10|        31|        6|    726|       725|    848|       855|           PS|     1451|   NULL|               82|            90|   NULL|      -7|       1|   SAN| SFO|     447|  NULL|   NULL|        0|            NULL|       0|        NULL|        NULL|    NULL|         NULL|             NULL|\n",
      "|1987|   10|         1|        4|    936|       915|   1035|      1001|           PS|     1451|   NULL|               59|            46|   NULL|      34|      21|   SFO| RNO|     192|  NULL|   NULL|        0|            NULL|       0|        NULL|        NULL|    NULL|         NULL|             NULL|\n",
      "|1987|   10|         2|        5|    918|       915|   1017|      1001|           PS|     1451|   NULL|               59|            46|   NULL|      16|       3|   SFO| RNO|     192|  NULL|   NULL|        0|            NULL|       0|        NULL|        NULL|    NULL|         NULL|             NULL|\n",
      "|1987|   10|         3|        6|    928|       915|   1037|      1001|           PS|     1451|   NULL|               69|            46|   NULL|      36|      13|   SFO| RNO|     192|  NULL|   NULL|        0|            NULL|       0|        NULL|        NULL|    NULL|         NULL|             NULL|\n",
      "|1987|   10|         4|        7|    914|       915|   1003|      1001|           PS|     1451|   NULL|               49|            46|   NULL|       2|      -1|   SFO| RNO|     192|  NULL|   NULL|        0|            NULL|       0|        NULL|        NULL|    NULL|         NULL|             NULL|\n",
      "|1987|   10|         5|        1|   1042|       915|   1129|      1001|           PS|     1451|   NULL|               47|            46|   NULL|      88|      87|   SFO| RNO|     192|  NULL|   NULL|        0|            NULL|       0|        NULL|        NULL|    NULL|         NULL|             NULL|\n",
      "|1987|   10|         6|        2|    934|       915|   1024|      1001|           PS|     1451|   NULL|               50|            46|   NULL|      23|      19|   SFO| RNO|     192|  NULL|   NULL|        0|            NULL|       0|        NULL|        NULL|    NULL|         NULL|             NULL|\n",
      "+----+-----+----------+---------+-------+----------+-------+----------+-------------+---------+-------+-----------------+--------------+-------+--------+--------+------+----+--------+------+-------+---------+----------------+--------+------------+------------+--------+-------------+-----------------+\n"
     ]
    }
   ],
   "source": [
    "# Iterate over all columns in the DataFrame\n",
    "for column in df.columns:\n",
    "    df = df.withColumn(column, when(col(column) == \"NA\", None).otherwise(col(column)))\n",
    "\n",
    "df.show()"
   ]
  },
  {
   "cell_type": "code",
   "execution_count": 4,
   "id": "baba2d3d-2306-44ab-a74d-095f157c2e07",
   "metadata": {
    "tags": [],
    "ExecuteTime": {
     "end_time": "2024-01-07T20:55:00.535833137Z",
     "start_time": "2024-01-07T20:54:54.955126713Z"
    }
   },
   "outputs": [
    {
     "name": "stderr",
     "output_type": "stream",
     "text": [
      "[Stage 3:==============>                                            (2 + 6) / 8]\r"
     ]
    },
    {
     "name": "stdout",
     "output_type": "stream",
     "text": [
      "+----+-----+----------+---------+-------+----------+-------+----------+-------------+---------+-------+-----------------+--------------+-------+--------+--------+------+----+--------+-------+-------+---------+----------------+--------+------------+------------+--------+-------------+-----------------+\n",
      "|Year|Month|DayofMonth|DayOfWeek|DepTime|CRSDepTime|ArrTime|CRSArrTime|UniqueCarrier|FlightNum|TailNum|ActualElapsedTime|CRSElapsedTime|AirTime|ArrDelay|DepDelay|Origin|Dest|Distance| TaxiIn|TaxiOut|Cancelled|CancellationCode|Diverted|CarrierDelay|WeatherDelay|NASDelay|SecurityDelay|LateAircraftDelay|\n",
      "+----+-----+----------+---------+-------+----------+-------+----------+-------------+---------+-------+-----------------+--------------+-------+--------+--------+------+----+--------+-------+-------+---------+----------------+--------+------------+------------+--------+-------------+-----------------+\n",
      "|   0|    0|         0|        0|  19685|         0|  23500|         0|            0|        0|1311826|            23500|             0|1311826|   23500|   19685|     0|   0|    1015|1311826|1311826|        0|         1311826|       0|     1311826|     1311826| 1311826|      1311826|          1311826|\n",
      "+----+-----+----------+---------+-------+----------+-------+----------+-------------+---------+-------+-----------------+--------------+-------+--------+--------+------+----+--------+-------+-------+---------+----------------+--------+------------+------------+--------+-------------+-----------------+\n"
     ]
    },
    {
     "name": "stderr",
     "output_type": "stream",
     "text": [
      "                                                                                \r"
     ]
    }
   ],
   "source": [
    "from pyspark.sql.functions import col\n",
    "\n",
    "# Counts the number of null values for each column\n",
    "df.select([count(when(col(c).isNull(), c)).alias(c) for c in df.columns]).show()"
   ]
  },
  {
   "cell_type": "markdown",
   "id": "6c0e748d-08b5-4a81-bd26-5eb6b287c520",
   "metadata": {},
   "source": [
    "# Preprocessing\n",
    "- eliminate unnecesary variables\n",
    "- missing and duplicates values\n",
    "- see correlation\n",
    "- variable transformation\n",
    "- variable creation"
   ]
  },
  {
   "cell_type": "code",
   "execution_count": 5,
   "id": "19529b89-a015-4f2a-a06f-1b699d5b9cb1",
   "metadata": {
    "tags": [],
    "ExecuteTime": {
     "end_time": "2024-01-07T20:55:03.851152743Z",
     "start_time": "2024-01-07T20:55:03.808436760Z"
    }
   },
   "outputs": [],
   "source": [
    "# columns to eliminate\n",
    "columns = [\n",
    "    \"ArrTime\", \n",
    "    \"ActualElapsedTime\", \n",
    "    \"AirTime\", \n",
    "    \"TaxiIn\", \n",
    "    \"Diverted\", \n",
    "    \"CarrierDelay\", \n",
    "    \"WeatherDelay\", \n",
    "    \"NASDelay\", \n",
    "    \"SecurityDelay\", \n",
    "    \"LateAircraftDelay\"\n",
    "]\n",
    "\n",
    "# Eliminate columns\n",
    "df = df.drop(*columns)\n"
   ]
  },
  {
   "cell_type": "code",
   "execution_count": 6,
   "id": "f07a7991-2e7e-4bbc-8b42-060f43af487c",
   "metadata": {
    "tags": [],
    "ExecuteTime": {
     "end_time": "2024-01-07T20:55:30.343535410Z",
     "start_time": "2024-01-07T20:55:30.279008885Z"
    }
   },
   "outputs": [],
   "source": [
    "# columns to eliminate\n",
    "columns = [\n",
    "    \"Year\",\n",
    "    \"TailNum\",\n",
    "    \"TaxiOut\",\n",
    "    \"Cancelled\",\n",
    "    \"CancellationCode\"  \n",
    "]\n",
    "\n",
    "# Eliminate columns\n",
    "df = df.drop(*columns)"
   ]
  },
  {
   "cell_type": "markdown",
   "id": "6081fe72-7891-41b4-8766-e90e8691304d",
   "metadata": {},
   "source": [
    "## Missing values"
   ]
  },
  {
   "cell_type": "code",
   "execution_count": 7,
   "id": "4648b34a-0027-4839-9895-917333067aef",
   "metadata": {
    "tags": [],
    "ExecuteTime": {
     "end_time": "2024-01-07T20:55:43.267983632Z",
     "start_time": "2024-01-07T20:55:40.634590659Z"
    }
   },
   "outputs": [
    {
     "name": "stderr",
     "output_type": "stream",
     "text": [
      "[Stage 6:=======>                                                   (1 + 7) / 8]\r"
     ]
    },
    {
     "name": "stdout",
     "output_type": "stream",
     "text": [
      "+-----+----------+---------+-------+----------+----------+-------------+---------+--------------+--------+--------+------+----+--------+\n",
      "|Month|DayofMonth|DayOfWeek|DepTime|CRSDepTime|CRSArrTime|UniqueCarrier|FlightNum|CRSElapsedTime|ArrDelay|DepDelay|Origin|Dest|Distance|\n",
      "+-----+----------+---------+-------+----------+----------+-------------+---------+--------------+--------+--------+------+----+--------+\n",
      "|    0|         0|        0|  19685|         0|         0|            0|        0|             0|   23500|   19685|     0|   0|    1015|\n",
      "+-----+----------+---------+-------+----------+----------+-------------+---------+--------------+--------+--------+------+----+--------+\n"
     ]
    },
    {
     "name": "stderr",
     "output_type": "stream",
     "text": [
      "                                                                                \r"
     ]
    }
   ],
   "source": [
    "# Contar valores NA por columna\n",
    "df.select([count(when(col(c).isNull(), c)).alias(c) for c in df.columns]).show()"
   ]
  },
  {
   "cell_type": "markdown",
   "source": [
    "#Now we check if NA stands for 0. If this value is not present, means that NA was 0."
   ],
   "metadata": {
    "collapsed": false
   },
   "id": "a66b2cce1bc21e91"
  },
  {
   "cell_type": "code",
   "execution_count": 8,
   "id": "87379505-3215-428c-8bbe-7b734213ae6b",
   "metadata": {
    "tags": [],
    "ExecuteTime": {
     "end_time": "2024-01-07T20:55:54.132501975Z",
     "start_time": "2024-01-07T20:55:51.667432906Z"
    }
   },
   "outputs": [
    {
     "name": "stderr",
     "output_type": "stream",
     "text": [
      "[Stage 15:=======>                                                  (1 + 7) / 8]\r"
     ]
    },
    {
     "name": "stdout",
     "output_type": "stream",
     "text": [
      "0 is present in the ArrDelay column 60436 times out of 1311826.\n"
     ]
    },
    {
     "name": "stderr",
     "output_type": "stream",
     "text": [
      "                                                                                \r"
     ]
    }
   ],
   "source": [
    "from pyspark.sql import functions as F\n",
    "# Filter the DataFrame to keep only rows where ArrDelay is equal to 0\n",
    "filtered_df = df.filter(F.col(\"ArrDelay\") == 0)\n",
    "\n",
    "# Total number of rows in the DataFrame\n",
    "total_rows = df.count()\n",
    "\n",
    "# Check if there are any rows in the filtered DataFrame\n",
    "if filtered_df.count() > 0:\n",
    "    print(\"0 is present in the ArrDelay column \" + str(filtered_df.count()) + \" times out of \" + str(total_rows) + \".\")\n",
    "else:\n",
    "    print(\"0 is not present in the ArrDelay column.\")"
   ]
  },
  {
   "cell_type": "code",
   "execution_count": 9,
   "id": "b0df10f9-d1d4-4d2a-b254-828a9caac563",
   "metadata": {
    "tags": [],
    "ExecuteTime": {
     "end_time": "2024-01-07T20:55:59.838483714Z",
     "start_time": "2024-01-07T20:55:57.542926120Z"
    }
   },
   "outputs": [
    {
     "name": "stderr",
     "output_type": "stream",
     "text": [
      "[Stage 18:===========================================>              (6 + 2) / 8]\r"
     ]
    },
    {
     "name": "stdout",
     "output_type": "stream",
     "text": [
      "+-----+----------+---------+--------------------+----------+----------+-------------+---------+--------------+--------------------+--------------------+------+----+--------------------+\n",
      "|Month|DayofMonth|DayOfWeek|             DepTime|CRSDepTime|CRSArrTime|UniqueCarrier|FlightNum|CRSElapsedTime|            ArrDelay|            DepDelay|Origin|Dest|            Distance|\n",
      "+-----+----------+---------+--------------------+----------+----------+-------------+---------+--------------+--------------------+--------------------+------+----+--------------------+\n",
      "|  0.0|       0.0|      0.0|0.015005801074227831|       0.0|       0.0|          0.0|      0.0|           0.0|0.017913961150335486|0.015005801074227831|   0.0| 0.0|7.737306624506603E-4|\n",
      "+-----+----------+---------+--------------------+----------+----------+-------------+---------+--------------+--------------------+--------------------+------+----+--------------------+\n"
     ]
    },
    {
     "name": "stderr",
     "output_type": "stream",
     "text": [
      "                                                                                \r"
     ]
    }
   ],
   "source": [
    "# Calculate the percentage of null values for each column\n",
    "null_percentage = df.select([(count(when(col(c).isNull(), c)) / total_rows).alias(c) for c in df.columns])\n",
    "\n",
    "# Show the percentage of null values for each column\n",
    "null_percentage.show()"
   ]
  },
  {
   "cell_type": "code",
   "execution_count": 10,
   "id": "9a5ff12d-d8ee-40b4-aa65-441f1e07c540",
   "metadata": {
    "tags": [],
    "ExecuteTime": {
     "end_time": "2024-01-07T20:56:03.743208451Z",
     "start_time": "2024-01-07T20:56:00.860727451Z"
    }
   },
   "outputs": [
    {
     "name": "stderr",
     "output_type": "stream",
     "text": [
      "[Stage 21:====================================>                     (5 + 3) / 8]\r"
     ]
    },
    {
     "name": "stdout",
     "output_type": "stream",
     "text": [
      "Dropped 24493 rows.\n"
     ]
    },
    {
     "name": "stderr",
     "output_type": "stream",
     "text": [
      "                                                                                \r"
     ]
    }
   ],
   "source": [
    "# Drop rows with at least one missing value\n",
    "\n",
    "df = df.dropna()\n",
    "dropped_rows = total_rows - df.count()\n",
    "print(\"Dropped \"+ str(dropped_rows)+ \" rows.\")"
   ]
  },
  {
   "cell_type": "markdown",
   "id": "9ee9a02d-dd7e-43fd-9e56-7c38ef749809",
   "metadata": {},
   "source": [
    "## Duplicates"
   ]
  },
  {
   "cell_type": "code",
   "execution_count": 11,
   "id": "a53d608a-f26a-4550-b9f9-67f0dfc32658",
   "metadata": {
    "tags": [],
    "ExecuteTime": {
     "end_time": "2024-01-07T20:56:21.008748131Z",
     "start_time": "2024-01-07T20:56:11.074394567Z"
    }
   },
   "outputs": [
    {
     "name": "stderr",
     "output_type": "stream",
     "text": [
      "[Stage 29:=========================>                                (4 + 5) / 9]\r"
     ]
    },
    {
     "name": "stdout",
     "output_type": "stream",
     "text": [
      "There are duplicates in the DataFrame.\n"
     ]
    },
    {
     "name": "stderr",
     "output_type": "stream",
     "text": [
      "                                                                                \r"
     ]
    }
   ],
   "source": [
    "# Check for duplicates and show the results\n",
    "total_rows = df.count()\n",
    "df = df.dropDuplicates()\n",
    "\n",
    "if total_rows - df.count()  > 0:\n",
    "    print(\"There are duplicates in the DataFrame.\")\n",
    "else:\n",
    "    print(\"No duplicates found in the DataFrame.\")"
   ]
  },
  {
   "cell_type": "markdown",
   "id": "d694f480-0a4f-4bd8-888e-1571a67c45a0",
   "metadata": {},
   "source": [
    "## Variable transformation"
   ]
  },
  {
   "cell_type": "code",
   "execution_count": 12,
   "id": "096b53ac-d091-49c6-b989-07346ac53b4f",
   "metadata": {
    "ExecuteTime": {
     "end_time": "2024-01-07T20:56:33.405810262Z",
     "start_time": "2024-01-07T20:56:28.249724091Z"
    }
   },
   "outputs": [
    {
     "name": "stderr",
     "output_type": "stream",
     "text": [
      "[Stage 33:=============================>                            (4 + 4) / 8]\r"
     ]
    },
    {
     "name": "stdout",
     "output_type": "stream",
     "text": [
      "+-----+----------+---------+-------+----------+----------+-------------+---------+--------------+--------+--------+------+----+--------+\n",
      "|Month|DayofMonth|DayOfWeek|DepTime|CRSDepTime|CRSArrTime|UniqueCarrier|FlightNum|CRSElapsedTime|ArrDelay|DepDelay|Origin|Dest|Distance|\n",
      "+-----+----------+---------+-------+----------+----------+-------------+---------+--------------+--------+--------+------+----+--------+\n",
      "|10   |10        |6        |1635   |1635      |1732      |PS           |1454     |57            |8       |0       |OAK   |BUR |325     |\n",
      "|10   |20        |2        |1945   |1945      |2101      |PS           |1484     |76            |1       |0       |SFO   |SAN |447     |\n",
      "|10   |9         |5        |2057   |2016      |2132      |PS           |1486     |76            |47      |41      |OAK   |SAN |446     |\n",
      "|10   |13        |2        |2114   |2115      |2223      |PS           |1505     |68            |3       |-1      |SNA   |SJC |342     |\n",
      "|10   |18        |7        |841    |842       |1030      |PS           |1517     |108           |3       |-1      |SFO   |GEG |733     |\n",
      "|10   |19        |1        |914    |842       |1030      |PS           |1517     |108           |52      |32      |SFO   |GEG |733     |\n",
      "|10   |27        |2        |1129   |1130      |1234      |PS           |1524     |64            |22      |-1      |SFO   |BUR |326     |\n",
      "|10   |4         |7        |1806   |1800      |1911      |PS           |1526     |71            |6       |6       |SFO   |LAX |337     |\n",
      "|10   |27        |2        |1804   |1800      |1911      |PS           |1526     |71            |21      |4       |SFO   |LAX |337     |\n",
      "|10   |11        |7        |1832   |1830      |1931      |PS           |1538     |61            |8       |2       |SFO   |BUR |326     |\n",
      "|10   |21        |3        |2007   |2010      |2126      |PS           |1547     |76            |11      |-3      |TUS   |LAX |451     |\n",
      "|10   |16        |5        |1008   |1010      |1117      |PS           |1551     |67            |27      |-2      |BUR   |SMF |358     |\n",
      "|10   |23        |5        |1811   |1810      |1858      |PS           |1566     |48            |10      |1       |BUR   |LAS |223     |\n",
      "|10   |31        |6        |1705   |1635      |1800      |PS           |1577     |85            |19      |30      |SAN   |SFO |447     |\n",
      "|10   |18        |7        |2034   |2035      |2157      |PS           |1589     |82            |3       |-1      |SAN   |SMF |480     |\n",
      "+-----+----------+---------+-------+----------+----------+-------------+---------+--------------+--------+--------+------+----+--------+\n"
     ]
    },
    {
     "name": "stderr",
     "output_type": "stream",
     "text": [
      "                                                                                \r"
     ]
    }
   ],
   "source": [
    "# List of columns to exclude from conversion\n",
    "exclude_columns = ['UniqueCarrier', 'Origin', 'Dest']\n",
    "\n",
    "# Convert all columns to integer type except the ones in exclude_columns\n",
    "for column in df.columns:\n",
    "    if column not in exclude_columns:\n",
    "        df = df.withColumn(column, col(column).cast(\"integer\"))\n",
    "\n",
    "# Display the columns and the first 15 rows to verify the change\n",
    "df.show(15, truncate=False)\n",
    "\n"
   ]
  },
  {
   "cell_type": "code",
   "outputs": [
    {
     "name": "stdout",
     "output_type": "stream",
     "text": [
      "Distinct values in column 'UniqueCarrier':\n"
     ]
    },
    {
     "name": "stderr",
     "output_type": "stream",
     "text": [
      "                                                                                \r"
     ]
    },
    {
     "name": "stdout",
     "output_type": "stream",
     "text": [
      "UA\n",
      "EA\n",
      "PS\n",
      "NW\n",
      "HP\n",
      "TW\n",
      "WN\n",
      "PI\n",
      "AA\n",
      "DL\n",
      "CO\n",
      "PA (1)\n",
      "US\n",
      "AS\n",
      "\n",
      "\n",
      "Number of distinct values: 14\n",
      "Distinct values in column 'Origin':\n"
     ]
    },
    {
     "name": "stderr",
     "output_type": "stream",
     "text": [
      "                                                                                \r"
     ]
    },
    {
     "name": "stdout",
     "output_type": "stream",
     "text": [
      "MSY\n",
      "GEG\n",
      "BUR\n",
      "SNA\n",
      "GTF\n",
      "GRB\n",
      "GRR\n",
      "EUG\n",
      "GSO\n",
      "PVD\n",
      "OAK\n",
      "MSN\n",
      "FAR\n",
      "DCA\n",
      "CID\n",
      "RDM\n",
      "LEX\n",
      "ORF\n",
      "CRW\n",
      "SAV\n",
      "CMH\n",
      "CAK\n",
      "MOB\n",
      "PNS\n",
      "LIH\n",
      "IAH\n",
      "HNL\n",
      "ERI\n",
      "SHV\n",
      "SJC\n",
      "CVG\n",
      "TOL\n",
      "LGA\n",
      "BUF\n",
      "TLH\n",
      "HPN\n",
      "RDD\n",
      "AUS\n",
      "MLI\n",
      "SJU\n",
      "ATW\n",
      "LGB\n",
      "GJT\n",
      "BFL\n",
      "GFK\n",
      "RNO\n",
      "SRQ\n",
      "SBN\n",
      "RST\n",
      "CHS\n",
      "TUL\n",
      "RSW\n",
      "HRL\n",
      "ISP\n",
      "AMA\n",
      "BOS\n",
      "MAF\n",
      "MLB\n",
      "EWR\n",
      "LAS\n",
      "BIS\n",
      "FAI\n",
      "JAN\n",
      "DLH\n",
      "DEN\n",
      "ALB\n",
      "CPR\n",
      "LNK\n",
      "IAD\n",
      "PSP\n",
      "SBA\n",
      "BOI\n",
      "DRO\n",
      "SEA\n",
      "CMI\n",
      "LAN\n",
      "MCI\n",
      "FLG\n",
      "BNA\n",
      "CLT\n",
      "PSC\n",
      "BLI\n",
      "ABQ\n",
      "PBI\n",
      "SDF\n",
      "SCK\n",
      "ACV\n",
      "MRY\n",
      "BDL\n",
      "DAL\n",
      "CLE\n",
      "PDX\n",
      "MFR\n",
      "MIA\n",
      "ILG\n",
      "TPA\n",
      "BWI\n",
      "OKC\n",
      "SMF\n",
      "MBS\n",
      "PHX\n",
      "STL\n",
      "PWM\n",
      "DFW\n",
      "MHT\n",
      "ABE\n",
      "GSP\n",
      "LSE\n",
      "STX\n",
      "LMT\n",
      "LBB\n",
      "CRP\n",
      "FSD\n",
      "SFO\n",
      "MEM\n",
      "ELP\n",
      "GCN\n",
      "BHM\n",
      "YKM\n",
      "FLL\n",
      "ATL\n",
      "RIC\n",
      "DAY\n",
      "OMA\n",
      "VPS\n",
      "LIT\n",
      "FAT\n",
      "ICT\n",
      "CAE\n",
      "ORD\n",
      "AVP\n",
      "BTV\n",
      "BIL\n",
      "ILM\n",
      "PUB\n",
      "PIA\n",
      "RDU\n",
      "MKE\n",
      "CCR\n",
      "SYR\n",
      "HSV\n",
      "TUS\n",
      "PIT\n",
      "MDW\n",
      "AZO\n",
      "COS\n",
      "IND\n",
      "ALO\n",
      "KOA\n",
      "EAU\n",
      "GPT\n",
      "MGM\n",
      "DTW\n",
      "HOU\n",
      "TYS\n",
      "CHA\n",
      "YUM\n",
      "ONT\n",
      "MDT\n",
      "FWA\n",
      "JAX\n",
      "LAX\n",
      "MSP\n",
      "MOT\n",
      "BGR\n",
      "BTR\n",
      "MCO\n",
      "SGF\n",
      "ROC\n",
      "SAN\n",
      "BZN\n",
      "JFK\n",
      "ANC\n",
      "SUX\n",
      "DAB\n",
      "GNV\n",
      "MSO\n",
      "PHL\n",
      "OGG\n",
      "DSM\n",
      "FOE\n",
      "SAT\n",
      "SLC\n",
      "STT\n",
      "RAP\n",
      "BGM\n",
      "IDA\n",
      "MYR\n",
      "ISO\n",
      "BTM\n",
      "MLU\n",
      "HLN\n",
      "EVV\n",
      "CWA\n",
      "TRI\n",
      "SPN\n",
      "UCA\n",
      "CHO\n",
      "AVL\n",
      "LYH\n",
      "EYW\n",
      "JAC\n",
      "ORH\n",
      "ITH\n",
      "APF\n",
      "ROA\n",
      "YAP\n",
      "ELM\n",
      "FCA\n",
      "FAY\n",
      "CSG\n",
      "FNT\n",
      "PFN\n",
      "GUM\n",
      "MFE\n",
      "LFT\n",
      "OAJ\n",
      "JNU\n",
      "HTS\n",
      "AGS\n",
      "ROR\n",
      "PSG\n",
      "SCC\n",
      "WRG\n",
      "CDV\n",
      "OME\n",
      "PIE\n",
      "TVL\n",
      "BET\n",
      "PHF\n",
      "SIT\n",
      "OTZ\n",
      "YAK\n",
      "GUC\n",
      "PIR\n",
      "HDN\n",
      "\n",
      "\n",
      "Number of distinct values: 236\n",
      "Distinct values in column 'Dest':\n"
     ]
    },
    {
     "name": "stderr",
     "output_type": "stream",
     "text": [
      "[Stage 42:=====================>                                    (3 + 5) / 8]\r"
     ]
    },
    {
     "name": "stdout",
     "output_type": "stream",
     "text": [
      "MSY\n",
      "GEG\n",
      "BUR\n",
      "SNA\n",
      "GTF\n",
      "GRB\n",
      "GRR\n",
      "EUG\n",
      "PVD\n",
      "GSO\n",
      "OAK\n",
      "MSN\n",
      "FAR\n",
      "DCA\n",
      "CID\n",
      "RDM\n",
      "LEX\n",
      "ORF\n",
      "EVV\n",
      "CRW\n",
      "CWA\n",
      "SAV\n",
      "CMH\n",
      "CAK\n",
      "MOB\n",
      "PNS\n",
      "LIH\n",
      "IAH\n",
      "HNL\n",
      "ERI\n",
      "SHV\n",
      "SJC\n",
      "CVG\n",
      "TOL\n",
      "LGA\n",
      "BUF\n",
      "TLH\n",
      "HPN\n",
      "RDD\n",
      "MLI\n",
      "AUS\n",
      "SJU\n",
      "ATW\n",
      "LGB\n",
      "GJT\n",
      "BFL\n",
      "GFK\n",
      "RNO\n",
      "SRQ\n",
      "SBN\n",
      "RST\n",
      "CHS\n",
      "TUL\n",
      "RSW\n",
      "HRL\n",
      "ISP\n",
      "AMA\n",
      "BOS\n",
      "MAF\n",
      "MLB\n",
      "EWR\n",
      "LAS\n",
      "BIS\n",
      "FAI\n",
      "JAN\n",
      "DLH\n",
      "DEN\n",
      "ALB\n",
      "CPR\n",
      "LNK\n",
      "IAD\n",
      "PSP\n",
      "BOI\n",
      "SBA\n",
      "DRO\n",
      "SEA\n",
      "CMI\n",
      "MCI\n",
      "FLG\n",
      "BNA\n",
      "CLT\n",
      "BLI\n",
      "PSC\n",
      "ABQ\n",
      "PBI\n",
      "SDF\n",
      "SCK\n",
      "ACV\n",
      "MRY\n",
      "BDL\n",
      "DAL\n",
      "CLE\n",
      "PDX\n",
      "MFR\n",
      "MIA\n",
      "ILG\n",
      "BWI\n",
      "TPA\n",
      "OKC\n",
      "SMF\n",
      "MBS\n",
      "PHX\n",
      "STL\n",
      "PWM\n",
      "DFW\n",
      "ABE\n",
      "MHT\n",
      "GSP\n",
      "LSE\n",
      "STX\n",
      "LMT\n",
      "LBB\n",
      "CRP\n",
      "FSD\n",
      "SFO\n",
      "MEM\n",
      "ELP\n",
      "GCN\n",
      "BHM\n",
      "YKM\n",
      "FLL\n",
      "ATL\n",
      "RIC\n",
      "DAY\n",
      "OMA\n",
      "VPS\n",
      "LIT\n",
      "FAT\n",
      "ICT\n",
      "CAE\n",
      "ORD\n",
      "AVP\n",
      "BTV\n",
      "BIL\n",
      "ILM\n",
      "PUB\n",
      "PIA\n",
      "RDU\n",
      "MKE\n",
      "CCR\n",
      "SYR\n",
      "HSV\n",
      "TUS\n",
      "PIT\n",
      "MDW\n",
      "AZO\n",
      "COS\n",
      "IND\n",
      "ALO\n",
      "KOA\n",
      "EAU\n",
      "GPT\n",
      "MGM\n",
      "DTW\n",
      "HOU\n",
      "TYS\n",
      "CHA\n",
      "YUM\n",
      "ONT\n",
      "MDT\n",
      "FWA\n",
      "JAX\n",
      "LAX\n",
      "MSP\n",
      "MOT\n",
      "BGR\n",
      "BTR\n",
      "MCO\n",
      "SGF\n",
      "ROC\n",
      "SAN\n",
      "BZN\n",
      "JFK\n",
      "ANC\n",
      "SUX\n",
      "DAB\n",
      "MSO\n",
      "PHL\n",
      "OGG\n",
      "DSM\n",
      "FOE\n",
      "SAT\n",
      "SLC\n",
      "STT\n",
      "RAP\n",
      "BGM\n",
      "IDA\n",
      "MYR\n",
      "ISO\n",
      "BTM\n",
      "MLU\n",
      "HLN\n",
      "TRI\n",
      "SPN\n",
      "UCA\n",
      "CHO\n",
      "AVL\n",
      "LYH\n",
      "EYW\n",
      "JAC\n",
      "LAN\n",
      "ORH\n",
      "ITH\n",
      "APF\n",
      "ROA\n",
      "YAP\n",
      "ELM\n",
      "FCA\n",
      "FAY\n",
      "CSG\n",
      "FNT\n",
      "PFN\n",
      "GUM\n",
      "MFE\n",
      "LFT\n",
      "OAJ\n",
      "JNU\n",
      "HTS\n",
      "AGS\n",
      "ROR\n",
      "GNV\n",
      "PSG\n",
      "SCC\n",
      "WRG\n",
      "CDV\n",
      "OME\n",
      "PIE\n",
      "TVL\n",
      "BET\n",
      "PHF\n",
      "SIT\n",
      "OTZ\n",
      "YAK\n",
      "GUC\n",
      "HDN\n",
      "PIH\n",
      "\n",
      "\n",
      "Number of distinct values: 236\n"
     ]
    },
    {
     "name": "stderr",
     "output_type": "stream",
     "text": [
      "                                                                                \r"
     ]
    }
   ],
   "source": [
    "# Print distinct values for each specified column\n",
    "for column in exclude_columns:\n",
    "    print(f\"Distinct values in column '{column}':\")\n",
    "    distinct_values = df.select(column).distinct().collect()\n",
    "    for value in distinct_values:\n",
    "        print(value[column])\n",
    "    print(\"\\n\")  # Adding a newline for better readability\n",
    "    # Print the number of elements in the distinct_values list\n",
    "    print(f\"Number of distinct values: {len(distinct_values)}\")"
   ],
   "metadata": {
    "collapsed": false,
    "ExecuteTime": {
     "end_time": "2024-01-07T20:56:45.162008627Z",
     "start_time": "2024-01-07T20:56:37.381389689Z"
    }
   },
   "id": "14deb4462c6a2749",
   "execution_count": 13
  },
  {
   "cell_type": "markdown",
   "source": [
    "## Import geographic coordinates"
   ],
   "metadata": {
    "collapsed": false
   },
   "id": "d883a4781dc30abe"
  },
  {
   "cell_type": "code",
   "outputs": [
    {
     "name": "stdout",
     "output_type": "stream",
     "text": [
      "+----------------+-----------------+---------+\n",
      "|    latitude_deg|    longitude_deg|iata_code|\n",
      "+----------------+-----------------+---------+\n",
      "|       33.942501|      -118.407997|      LAX|\n",
      "|         41.9786|         -87.9048|      ORD|\n",
      "|       40.639447|       -73.779317|      JFK|\n",
      "|         33.6367|       -84.428101|      ATL|\n",
      "|37.6189994812012|         -122.375|      SFO|\n",
      "|       40.692501|       -74.168701|      EWR|\n",
      "|       32.896801|       -97.038002|      DFW|\n",
      "|       36.083361|      -115.151817|      LAS|\n",
      "|28.4293994903564|-81.3089981079102|      MCO|\n",
      "| 39.861698150635|   -104.672996521|      DEN|\n",
      "|         38.9445|       -77.455803|      IAD|\n",
      "|       40.777199|       -73.872597|      LGA|\n",
      "|25.7931995391846|-80.2906036376953|      MIA|\n",
      "|       33.435302|      -112.005905|      PHX|\n",
      "|       47.449162|      -122.311134|      SEA|\n",
      "|         42.3643|       -71.005203|      BOS|\n",
      "| 39.871898651123| -75.241096496582|      PHL|\n",
      "|35.2140007019043|-80.9430999755859|      CLT|\n",
      "|29.9843997955322|-95.3414001464844|      IAH|\n",
      "|42.2123985290527| -83.353401184082|      DTW|\n",
      "+----------------+-----------------+---------+\n"
     ]
    }
   ],
   "source": [
    "# Read the CSV file\n",
    "usa_airport_df = spark.read.csv(\"us-airports.csv\", header=True)\n",
    "\n",
    "# Select only the 'latitude_deg', 'longitude_deg', and 'iata_code' columns\n",
    "usa_airport_df = usa_airport_df.select(\"latitude_deg\", \"longitude_deg\", \"iata_code\")\n",
    "\n",
    "usa_airport_df.show()"
   ],
   "metadata": {
    "collapsed": false,
    "ExecuteTime": {
     "end_time": "2024-01-07T20:57:14.107623649Z",
     "start_time": "2024-01-07T20:57:13.891126004Z"
    }
   },
   "id": "14e90499fbadf24a",
   "execution_count": 14
  },
  {
   "cell_type": "code",
   "outputs": [
    {
     "name": "stderr",
     "output_type": "stream",
     "text": [
      "                                                                                \r"
     ]
    },
    {
     "name": "stdout",
     "output_type": "stream",
     "text": [
      "472\n"
     ]
    },
    {
     "name": "stderr",
     "output_type": "stream",
     "text": [
      "[Stage 69:=============================>                            (4 + 4) / 8]\r"
     ]
    },
    {
     "name": "stdout",
     "output_type": "stream",
     "text": [
      "+------+\n",
      "|Origin|\n",
      "+------+\n",
      "|   SPN|\n",
      "|   UCA|\n",
      "|   SJU|\n",
      "|   YAP|\n",
      "|   STX|\n",
      "|   PFN|\n",
      "|   GUM|\n",
      "|   ROR|\n",
      "|   STT|\n",
      "+------+\n"
     ]
    },
    {
     "name": "stderr",
     "output_type": "stream",
     "text": [
      "                                                                                \r"
     ]
    }
   ],
   "source": [
    "# Select and concatenate the values from 'Origin' and 'Destination' columns\n",
    "origin = df.select(\"Origin\").distinct()\n",
    "destination = df.select(\"Dest\").distinct()\n",
    "\n",
    "all_airports = origin.distinct().union(destination)\n",
    "\n",
    "# Get distinct values\n",
    "distinct_airports = all_airports.distinct()\n",
    "print(all_airports.count())\n",
    "\n",
    "\n",
    "\n",
    "# Collect the distinct values\n",
    "\n",
    "#Distinct airport codes in the new Dataset.\n",
    "usa_iata_codes = usa_airport_df.select(\"iata_code\").distinct()\n",
    "\n",
    "\n",
    "#Show the missing values\n",
    "\n",
    "distinct_airports.subtract(usa_iata_codes).show()\n"
   ],
   "metadata": {
    "collapsed": false,
    "ExecuteTime": {
     "end_time": "2024-01-07T20:57:47.103758508Z",
     "start_time": "2024-01-07T20:57:38.825757652Z"
    }
   },
   "id": "8fc69cee8f70ed35",
   "execution_count": 16
  },
  {
   "cell_type": "code",
   "outputs": [
    {
     "name": "stdout",
     "output_type": "stream",
     "text": [
      "+------------------+-------------------+---------+\n",
      "|      latitude_deg|      longitude_deg|iata_code|\n",
      "+------------------+-------------------+---------+\n",
      "| 43.14333333333333|             -75.38|      UCA|\n",
      "| 18.33722222222222| -64.97333333333333|      STT|\n",
      "| 7.367222222222222| 134.54416666666665|      ROR|\n",
      "|17.704444444444444| -64.80166666666666|      STX|\n",
      "| 9.498888888888889|           138.0825|      YAP|\n",
      "|13.483888888888888|-144.79722222222222|      GUM|\n",
      "| 15.11888888888889| 145.72944444444445|      SPN|\n",
      "| 30.21222222222222| -85.68277777777779|      PFN|\n",
      "|18.439444444444444| -66.00194444444445|      SJU|\n",
      "+------------------+-------------------+---------+\n"
     ]
    }
   ],
   "source": [
    "import re\n",
    "\n",
    "# Function to convert DMS (degrees, minutes, seconds) to DD (decimal degrees)\n",
    "def dms_to_dd(dms):\n",
    "    parts = re.split('[°′″]', dms)\n",
    "    degrees = float(parts[0])\n",
    "    minutes = float(parts[1])\n",
    "    seconds = float(parts[2])\n",
    "    direction = parts[3]\n",
    "    \n",
    "    dd = degrees + minutes/60 + seconds/3600\n",
    "    if direction in ('S', 'W'):\n",
    "        dd *= -1\n",
    "    return dd\n",
    "\n",
    "# Coordinates in DMS format with corresponding  codes\n",
    "coordinates = [\n",
    "    (\"43°08′36″N\", \"075°22′48″W\",\"UCA\"),\n",
    "    (\"18°20′14″N\", \"064°58′24″W\",\"STT\"),\n",
    "    (\"7°22′02″N\", \"134°32′39″E\",\"ROR\"),\n",
    "    (\"17°42′16″N\", \"64°48′06″W\",\"STX\"),\n",
    "    (\"9°29′56″N\", \"138°04′57″E\",\"YAP\"),\n",
    "    (\"13°29′02″N\", \"144°47′50″W\",\"GUM\"),\n",
    "    (\"15°07′08″N\", \"145°43′46″E\",\"SPN\"),\n",
    "    (\"30°12′44″N\", \"085°40′58″W\",\"PFN\"),\n",
    "    (\"18°26′22″N\", \"66°00′07″W\",\"SJU\")\n",
    "]\n",
    "\n",
    "# Convert the DMS coordinates to decimal degrees\n",
    "airport_coordinates_dd = [(dms_to_dd(lat), dms_to_dd(lon),code) for  lat, lon ,code in coordinates]\n",
    "\n",
    "new_airports_df = spark.createDataFrame(airport_coordinates_dd, [\"latitude_deg\", \"longitude_deg\", \"iata_code\"])\n",
    "new_airports_df.show()\n",
    "\n",
    "usa_airport_df = usa_airport_df.union(new_airports_df).distinct()"
   ],
   "metadata": {
    "collapsed": false,
    "ExecuteTime": {
     "end_time": "2024-01-07T20:59:31.205416673Z",
     "start_time": "2024-01-07T20:59:30.259908648Z"
    }
   },
   "id": "36a1773748b3093d",
   "execution_count": 20
  },
  {
   "cell_type": "code",
   "outputs": [
    {
     "name": "stderr",
     "output_type": "stream",
     "text": [
      "                                                                                \r"
     ]
    },
    {
     "name": "stdout",
     "output_type": "stream",
     "text": [
      "+------+\n",
      "|Origin|\n",
      "+------+\n",
      "+------+\n"
     ]
    }
   ],
   "source": [
    "#Check that now we have coordinates for each airport\n",
    "distinct_airports.subtract(usa_airport_df.select(\"iata_code\")).show()"
   ],
   "metadata": {
    "collapsed": false,
    "ExecuteTime": {
     "end_time": "2024-01-07T21:03:51.381206770Z",
     "start_time": "2024-01-07T21:03:44.652291229Z"
    }
   },
   "id": "35d8e478b44c087",
   "execution_count": 22
  },
  {
   "cell_type": "code",
   "outputs": [
    {
     "name": "stderr",
     "output_type": "stream",
     "text": [
      "                                                                                \r"
     ]
    },
    {
     "name": "stdout",
     "output_type": "stream",
     "text": [
      "+-----+----------+---------+-------+----------+----------+-------------+---------+--------------+--------+--------+------+----+--------+-----------+------------+---------+\n",
      "|Month|DayofMonth|DayOfWeek|DepTime|CRSDepTime|CRSArrTime|UniqueCarrier|FlightNum|CRSElapsedTime|ArrDelay|DepDelay|Origin|Dest|Distance| Origin_Lat| Origin_Long|iata_code|\n",
      "+-----+----------+---------+-------+----------+----------+-------------+---------+--------------+--------+--------+------+----+--------+-----------+------------+---------+\n",
      "|   10|        21|        3|    723|       720|       817|           PI|      759|            57|      13|       3|   BGM| BWI|     212|42.20869827|-75.97979736|      BGM|\n",
      "|   10|        30|        5|    720|       720|       817|           PI|      759|            57|       4|       0|   BGM| BWI|     212|42.20869827|-75.97979736|      BGM|\n",
      "|   10|         7|        3|   1525|      1525|      1545|           PI|      930|            20|      -5|       0|   BGM| ITH|      32|42.20869827|-75.97979736|      BGM|\n",
      "|   10|        21|        3|   1523|      1525|      1545|           PI|      930|            20|      -8|      -2|   BGM| ITH|      32|42.20869827|-75.97979736|      BGM|\n",
      "|   10|         3|        6|    720|       720|       817|           PI|      759|            57|      15|       0|   BGM| BWI|     212|42.20869827|-75.97979736|      BGM|\n",
      "|   10|         8|        4|   1527|      1525|      1545|           PI|      930|            20|      -4|       2|   BGM| ITH|      32|42.20869827|-75.97979736|      BGM|\n",
      "|   10|        15|        4|   1525|      1525|      1545|           PI|      930|            20|      -3|       0|   BGM| ITH|      32|42.20869827|-75.97979736|      BGM|\n",
      "|   10|        14|        3|   1523|      1525|      1545|           PI|      930|            20|      -5|      -2|   BGM| ITH|      32|42.20869827|-75.97979736|      BGM|\n",
      "|   10|         6|        2|   1500|      1500|      1553|           US|      525|            53|       7|       0|   BGM| PIT|     251|42.20869827|-75.97979736|      BGM|\n",
      "|   10|        16|        5|   1125|      1125|      1145|           US|      373|            20|      -2|       0|   BGM| ELM|      48|42.20869827|-75.97979736|      BGM|\n",
      "|   10|        24|        6|   1500|      1500|      1553|           US|      525|            53|       2|       0|   BGM| PIT|     251|42.20869827|-75.97979736|      BGM|\n",
      "|   10|        10|        6|   1830|      1830|      1922|           US|      391|            52|      -1|       0|   BGM| PIT|     251|42.20869827|-75.97979736|      BGM|\n",
      "|   10|         1|        4|   1125|      1125|      1145|           US|      373|            20|      -2|       0|   BGM| ELM|      48|42.20869827|-75.97979736|      BGM|\n",
      "|   10|        30|        5|   1125|      1125|      1145|           US|      373|            20|       0|       0|   BGM| ELM|      48|42.20869827|-75.97979736|      BGM|\n",
      "|   10|        31|        6|   1830|      1830|      1922|           US|      391|            52|      -2|       0|   BGM| PIT|     251|42.20869827|-75.97979736|      BGM|\n",
      "|   10|         4|        7|   1848|      1830|      1922|           US|      391|            52|      22|      18|   BGM| PIT|     251|42.20869827|-75.97979736|      BGM|\n",
      "|   10|         4|        7|   1500|      1500|      1553|           US|      525|            53|      -1|       0|   BGM| PIT|     251|42.20869827|-75.97979736|      BGM|\n",
      "|   10|        21|        3|   1500|      1500|      1553|           US|      525|            53|       0|       0|   BGM| PIT|     251|42.20869827|-75.97979736|      BGM|\n",
      "|   10|         3|        6|   1830|      1830|      1922|           US|      391|            52|      -3|       0|   BGM| PIT|     251|42.20869827|-75.97979736|      BGM|\n",
      "|   10|         8|        4|   1847|      1830|      1922|           US|      391|            52|      15|      17|   BGM| PIT|     251|42.20869827|-75.97979736|      BGM|\n",
      "+-----+----------+---------+-------+----------+----------+-------------+---------+--------------+--------+--------+------+----+--------+-----------+------------+---------+\n"
     ]
    }
   ],
   "source": [
    "# Now we merge the two dataframes\n",
    "flights_with_origin = df.join(usa_airport_df, df[\"Origin\"] == usa_airport_df[\"iata_code\"])\n",
    "flights_with_origin = flights_with_origin.withColumnRenamed(\"latitude_deg\", \"Origin_Lat\").withColumnRenamed(\"longitude_deg\", \"Origin_Long\")\n",
    "\n",
    "flights_with_origin.show()\n"
   ],
   "metadata": {
    "collapsed": false,
    "ExecuteTime": {
     "end_time": "2024-01-07T21:05:03.514933547Z",
     "start_time": "2024-01-07T21:04:05.368383893Z"
    }
   },
   "id": "21372a9ee122191f",
   "execution_count": 23
  },
  {
   "cell_type": "code",
   "outputs": [
    {
     "name": "stderr",
     "output_type": "stream",
     "text": [
      "                                                                                \r"
     ]
    },
    {
     "name": "stdout",
     "output_type": "stream",
     "text": [
      "+-----+----------+---------+-------+----------+----------+-------------+---------+--------------+--------+--------+------+----+--------+-----------+------------+---------+----------------+-----------------+---------+\n",
      "|Month|DayofMonth|DayOfWeek|DepTime|CRSDepTime|CRSArrTime|UniqueCarrier|FlightNum|CRSElapsedTime|ArrDelay|DepDelay|Origin|Dest|Distance| Origin_Lat| Origin_Long|iata_code|        Dest_Lat|        Dest_Long|iata_code|\n",
      "+-----+----------+---------+-------+----------+----------+-------------+---------+--------------+--------+--------+------+----+--------+-----------+------------+---------+----------------+-----------------+---------+\n",
      "|   10|        21|        3|    723|       720|       817|           PI|      759|            57|      13|       3|   BGM| BWI|     212|42.20869827|-75.97979736|      BGM|         39.1754|       -76.668297|      BWI|\n",
      "|   10|        30|        5|    720|       720|       817|           PI|      759|            57|       4|       0|   BGM| BWI|     212|42.20869827|-75.97979736|      BGM|         39.1754|       -76.668297|      BWI|\n",
      "|   10|         7|        3|   1525|      1525|      1545|           PI|      930|            20|      -5|       0|   BGM| ITH|      32|42.20869827|-75.97979736|      BGM|42.4910011291504|-76.4583969116211|      ITH|\n",
      "|   10|        21|        3|   1523|      1525|      1545|           PI|      930|            20|      -8|      -2|   BGM| ITH|      32|42.20869827|-75.97979736|      BGM|42.4910011291504|-76.4583969116211|      ITH|\n",
      "|   10|         3|        6|    720|       720|       817|           PI|      759|            57|      15|       0|   BGM| BWI|     212|42.20869827|-75.97979736|      BGM|         39.1754|       -76.668297|      BWI|\n",
      "|   10|         8|        4|   1527|      1525|      1545|           PI|      930|            20|      -4|       2|   BGM| ITH|      32|42.20869827|-75.97979736|      BGM|42.4910011291504|-76.4583969116211|      ITH|\n",
      "|   10|        15|        4|   1525|      1525|      1545|           PI|      930|            20|      -3|       0|   BGM| ITH|      32|42.20869827|-75.97979736|      BGM|42.4910011291504|-76.4583969116211|      ITH|\n",
      "|   10|        14|        3|   1523|      1525|      1545|           PI|      930|            20|      -5|      -2|   BGM| ITH|      32|42.20869827|-75.97979736|      BGM|42.4910011291504|-76.4583969116211|      ITH|\n",
      "|   10|         6|        2|   1500|      1500|      1553|           US|      525|            53|       7|       0|   BGM| PIT|     251|42.20869827|-75.97979736|      BGM|     40.49150085|     -80.23290253|      PIT|\n",
      "|   10|        16|        5|   1125|      1125|      1145|           US|      373|            20|      -2|       0|   BGM| ELM|      48|42.20869827|-75.97979736|      BGM|42.1599006652832|   -76.8916015625|      ELM|\n",
      "|   10|        24|        6|   1500|      1500|      1553|           US|      525|            53|       2|       0|   BGM| PIT|     251|42.20869827|-75.97979736|      BGM|     40.49150085|     -80.23290253|      PIT|\n",
      "|   10|        10|        6|   1830|      1830|      1922|           US|      391|            52|      -1|       0|   BGM| PIT|     251|42.20869827|-75.97979736|      BGM|     40.49150085|     -80.23290253|      PIT|\n",
      "|   10|         1|        4|   1125|      1125|      1145|           US|      373|            20|      -2|       0|   BGM| ELM|      48|42.20869827|-75.97979736|      BGM|42.1599006652832|   -76.8916015625|      ELM|\n",
      "|   10|        30|        5|   1125|      1125|      1145|           US|      373|            20|       0|       0|   BGM| ELM|      48|42.20869827|-75.97979736|      BGM|42.1599006652832|   -76.8916015625|      ELM|\n",
      "|   10|        31|        6|   1830|      1830|      1922|           US|      391|            52|      -2|       0|   BGM| PIT|     251|42.20869827|-75.97979736|      BGM|     40.49150085|     -80.23290253|      PIT|\n",
      "|   10|         4|        7|   1848|      1830|      1922|           US|      391|            52|      22|      18|   BGM| PIT|     251|42.20869827|-75.97979736|      BGM|     40.49150085|     -80.23290253|      PIT|\n",
      "|   10|         4|        7|   1500|      1500|      1553|           US|      525|            53|      -1|       0|   BGM| PIT|     251|42.20869827|-75.97979736|      BGM|     40.49150085|     -80.23290253|      PIT|\n",
      "|   10|        21|        3|   1500|      1500|      1553|           US|      525|            53|       0|       0|   BGM| PIT|     251|42.20869827|-75.97979736|      BGM|     40.49150085|     -80.23290253|      PIT|\n",
      "|   10|         3|        6|   1830|      1830|      1922|           US|      391|            52|      -3|       0|   BGM| PIT|     251|42.20869827|-75.97979736|      BGM|     40.49150085|     -80.23290253|      PIT|\n",
      "|   10|         8|        4|   1847|      1830|      1922|           US|      391|            52|      15|      17|   BGM| PIT|     251|42.20869827|-75.97979736|      BGM|     40.49150085|     -80.23290253|      PIT|\n",
      "+-----+----------+---------+-------+----------+----------+-------------+---------+--------------+--------+--------+------+----+--------+-----------+------------+---------+----------------+-----------------+---------+\n"
     ]
    }
   ],
   "source": [
    "#adding destination coordinates\n",
    "usa_airport_df = usa_airport_df.distinct()\n",
    "flights_with_dest = flights_with_origin.join(usa_airport_df, flights_with_origin[\"Dest\"] == usa_airport_df[\"iata_code\"])\n",
    "flights_with_dest = flights_with_dest.withColumnRenamed(\"latitude_deg\", \"Dest_Lat\").withColumnRenamed(\"longitude_deg\", \"Dest_Long\")\n",
    "\n",
    "flights_with_dest.show()\n"
   ],
   "metadata": {
    "collapsed": false,
    "ExecuteTime": {
     "end_time": "2024-01-07T21:07:18.395015077Z",
     "start_time": "2024-01-07T21:05:37.063801312Z"
    }
   },
   "id": "61c8bd6501d1a272",
   "execution_count": 24
  },
  {
   "cell_type": "code",
   "outputs": [
    {
     "name": "stderr",
     "output_type": "stream",
     "text": [
      "                                                                                \r"
     ]
    },
    {
     "name": "stdout",
     "output_type": "stream",
     "text": [
      "+-----+----------+---------+-------+----------+----------+-------------+---------+--------------+--------+--------+--------+-----------+------------+----------------+-----------------+\n",
      "|Month|DayofMonth|DayOfWeek|DepTime|CRSDepTime|CRSArrTime|UniqueCarrier|FlightNum|CRSElapsedTime|ArrDelay|DepDelay|Distance| Origin_Lat| Origin_Long|        Dest_Lat|        Dest_Long|\n",
      "+-----+----------+---------+-------+----------+----------+-------------+---------+--------------+--------+--------+--------+-----------+------------+----------------+-----------------+\n",
      "|   10|        21|        3|    723|       720|       817|           PI|      759|            57|      13|       3|     212|42.20869827|-75.97979736|         39.1754|       -76.668297|\n",
      "|   10|        30|        5|    720|       720|       817|           PI|      759|            57|       4|       0|     212|42.20869827|-75.97979736|         39.1754|       -76.668297|\n",
      "|   10|         7|        3|   1525|      1525|      1545|           PI|      930|            20|      -5|       0|      32|42.20869827|-75.97979736|42.4910011291504|-76.4583969116211|\n",
      "|   10|        21|        3|   1523|      1525|      1545|           PI|      930|            20|      -8|      -2|      32|42.20869827|-75.97979736|42.4910011291504|-76.4583969116211|\n",
      "|   10|         3|        6|    720|       720|       817|           PI|      759|            57|      15|       0|     212|42.20869827|-75.97979736|         39.1754|       -76.668297|\n",
      "|   10|         8|        4|   1527|      1525|      1545|           PI|      930|            20|      -4|       2|      32|42.20869827|-75.97979736|42.4910011291504|-76.4583969116211|\n",
      "|   10|        15|        4|   1525|      1525|      1545|           PI|      930|            20|      -3|       0|      32|42.20869827|-75.97979736|42.4910011291504|-76.4583969116211|\n",
      "|   10|        14|        3|   1523|      1525|      1545|           PI|      930|            20|      -5|      -2|      32|42.20869827|-75.97979736|42.4910011291504|-76.4583969116211|\n",
      "|   10|         6|        2|   1500|      1500|      1553|           US|      525|            53|       7|       0|     251|42.20869827|-75.97979736|     40.49150085|     -80.23290253|\n",
      "|   10|        16|        5|   1125|      1125|      1145|           US|      373|            20|      -2|       0|      48|42.20869827|-75.97979736|42.1599006652832|   -76.8916015625|\n",
      "|   10|        24|        6|   1500|      1500|      1553|           US|      525|            53|       2|       0|     251|42.20869827|-75.97979736|     40.49150085|     -80.23290253|\n",
      "|   10|        10|        6|   1830|      1830|      1922|           US|      391|            52|      -1|       0|     251|42.20869827|-75.97979736|     40.49150085|     -80.23290253|\n",
      "|   10|         1|        4|   1125|      1125|      1145|           US|      373|            20|      -2|       0|      48|42.20869827|-75.97979736|42.1599006652832|   -76.8916015625|\n",
      "|   10|        30|        5|   1125|      1125|      1145|           US|      373|            20|       0|       0|      48|42.20869827|-75.97979736|42.1599006652832|   -76.8916015625|\n",
      "|   10|        31|        6|   1830|      1830|      1922|           US|      391|            52|      -2|       0|     251|42.20869827|-75.97979736|     40.49150085|     -80.23290253|\n",
      "|   10|         4|        7|   1848|      1830|      1922|           US|      391|            52|      22|      18|     251|42.20869827|-75.97979736|     40.49150085|     -80.23290253|\n",
      "|   10|         4|        7|   1500|      1500|      1553|           US|      525|            53|      -1|       0|     251|42.20869827|-75.97979736|     40.49150085|     -80.23290253|\n",
      "|   10|        21|        3|   1500|      1500|      1553|           US|      525|            53|       0|       0|     251|42.20869827|-75.97979736|     40.49150085|     -80.23290253|\n",
      "|   10|         3|        6|   1830|      1830|      1922|           US|      391|            52|      -3|       0|     251|42.20869827|-75.97979736|     40.49150085|     -80.23290253|\n",
      "|   10|         8|        4|   1847|      1830|      1922|           US|      391|            52|      15|      17|     251|42.20869827|-75.97979736|     40.49150085|     -80.23290253|\n",
      "+-----+----------+---------+-------+----------+----------+-------------+---------+--------------+--------+--------+--------+-----------+------------+----------------+-----------------+\n"
     ]
    }
   ],
   "source": [
    "#Now we have the coordinates of the airports instead of the codes.\n",
    "\n",
    "merged_df = flights_with_dest.drop(\"iata_code\",\"Origin\",\"Dest\")\n",
    "\n",
    "merged_df.show()"
   ],
   "metadata": {
    "collapsed": false,
    "ExecuteTime": {
     "end_time": "2024-01-07T21:09:07.417309213Z",
     "start_time": "2024-01-07T21:07:22.523299526Z"
    }
   },
   "id": "94cd71e2b645f996",
   "execution_count": 25
  },
  {
   "cell_type": "markdown",
   "source": [
    "## Use OneHotEncoder for UniqueCarrier"
   ],
   "metadata": {
    "collapsed": false
   },
   "id": "1f1f8aeca275ff42"
  },
  {
   "cell_type": "code",
   "outputs": [
    {
     "name": "stderr",
     "output_type": "stream",
     "text": [
      "[Stage 172:============================>                            (3 + 3) / 6]\r"
     ]
    },
    {
     "name": "stdout",
     "output_type": "stream",
     "text": [
      "+-------------+----------------+\n",
      "|UniqueCarrier|UniqueCarrierVec|\n",
      "+-------------+----------------+\n",
      "|US           |(13,[7],[1.0])  |\n",
      "|EA           |(13,[6],[1.0])  |\n",
      "|PS           |(13,[11],[1.0]) |\n",
      "|AS           |(13,[12],[1.0]) |\n",
      "|NW           |(13,[5],[1.0])  |\n",
      "|CO           |(13,[3],[1.0])  |\n",
      "|UA           |(13,[2],[1.0])  |\n",
      "|PA (1)       |(13,[],[])      |\n",
      "|DL           |(13,[0],[1.0])  |\n",
      "|TW           |(13,[8],[1.0])  |\n",
      "|HP           |(13,[10],[1.0]) |\n",
      "|PI           |(13,[4],[1.0])  |\n",
      "|WN           |(13,[9],[1.0])  |\n",
      "|AA           |(13,[1],[1.0])  |\n",
      "+-------------+----------------+\n"
     ]
    },
    {
     "name": "stderr",
     "output_type": "stream",
     "text": [
      "                                                                                \r"
     ]
    }
   ],
   "source": [
    "#Now we transform the 'UniqueCarrrier' feature in a OneHotEncoder\n",
    "\n",
    "from pyspark.ml.feature import StringIndexer, OneHotEncoder\n",
    "from pyspark.ml import Pipeline\n",
    "\n",
    "# Create a StringIndexer\n",
    "indexer = StringIndexer(inputCol=\"UniqueCarrier\", outputCol=\"UniqueCarrierIndex\")\n",
    "\n",
    "# Fit the indexer to the DataFrame and transform it\n",
    "df_indexed = indexer.fit(merged_df).transform(merged_df)\n",
    "\n",
    "# Create a OneHotEncoder\n",
    "encoder = OneHotEncoder(inputCols=[\"UniqueCarrierIndex\"], outputCols=[\"UniqueCarrierVec\"])\n",
    "\n",
    "# Apply the encoder to the DataFrame\n",
    "df_encoded = encoder.fit(df_indexed).transform(df_indexed)\n",
    "df_encoded.select(\"UniqueCarrier\", \"UniqueCarrierVec\").distinct().show(truncate=False)\n"
   ],
   "metadata": {
    "collapsed": false,
    "ExecuteTime": {
     "end_time": "2024-01-07T21:13:21.135007825Z",
     "start_time": "2024-01-07T21:09:53.857290560Z"
    }
   },
   "id": "9374c337a31f37f3",
   "execution_count": 26
  },
  {
   "cell_type": "code",
   "outputs": [
    {
     "name": "stderr",
     "output_type": "stream",
     "text": [
      "[Stage 185:============================>                            (3 + 3) / 6]\r"
     ]
    },
    {
     "name": "stdout",
     "output_type": "stream",
     "text": [
      "+-------------+----------------+\n",
      "|UniqueCarrier|UniqueCarrierVec|\n",
      "+-------------+----------------+\n",
      "|US           |(13,[7],[1.0])  |\n",
      "|EA           |(13,[6],[1.0])  |\n",
      "|PS           |(13,[11],[1.0]) |\n",
      "|AS           |(13,[12],[1.0]) |\n",
      "|NW           |(13,[5],[1.0])  |\n",
      "|CO           |(13,[3],[1.0])  |\n",
      "|UA           |(13,[2],[1.0])  |\n",
      "|PA (1)       |(13,[],[])      |\n",
      "|DL           |(13,[0],[1.0])  |\n",
      "|TW           |(13,[8],[1.0])  |\n",
      "|HP           |(13,[10],[1.0]) |\n",
      "|PI           |(13,[4],[1.0])  |\n",
      "|WN           |(13,[9],[1.0])  |\n",
      "|AA           |(13,[1],[1.0])  |\n",
      "+-------------+----------------+\n"
     ]
    },
    {
     "name": "stderr",
     "output_type": "stream",
     "text": [
      "                                                                                \r"
     ]
    }
   ],
   "source": [
    "#Print Results\n",
    "df_encoded.select(\"UniqueCarrier\", \"UniqueCarrierVec\").distinct().show(truncate=False)"
   ],
   "metadata": {
    "collapsed": false,
    "ExecuteTime": {
     "end_time": "2024-01-07T21:15:15.895618474Z",
     "start_time": "2024-01-07T21:13:32.225711216Z"
    }
   },
   "id": "b227d30d242c6eef",
   "execution_count": 27
  },
  {
   "cell_type": "code",
   "outputs": [],
   "source": [
    "final_df = df_encoded.drop(\"UniqueCarrier\")\n",
    "\n",
    "\n",
    "# Convert \"Origini_Lat\" from string to double\n",
    "final_df = final_df.withColumn(\"Origin_Lat\", final_df[\"Origin_Lat\"].cast(\"double\"))\n",
    "\n",
    "# Convert \"Origini_Long\" from string to double\n",
    "final_df = final_df.withColumn(\"Origin_Long\", final_df[\"Origin_Long\"].cast(\"double\"))\n",
    "\n",
    "# Convert \"Dest_Lat\" from string to double\n",
    "final_df = final_df.withColumn(\"Dest_Lat\", final_df[\"Dest_Lat\"].cast(\"double\"))\n",
    "\n",
    "# Convert \"Dest_Long\" from string to double\n",
    "final_df = final_df.withColumn(\"Dest_Long\", final_df[\"Dest_Long\"].cast(\"double\"))\n",
    "\n"
   ],
   "metadata": {
    "collapsed": false,
    "ExecuteTime": {
     "end_time": "2024-01-07T21:48:41.323254762Z",
     "start_time": "2024-01-07T21:48:41.227138504Z"
    }
   },
   "id": "d4bb7092e48babc1",
   "execution_count": 44
  },
  {
   "cell_type": "markdown",
   "source": [
    "## Plot to check the coordinates values"
   ],
   "metadata": {
    "collapsed": false
   },
   "id": "bcfafbfce8a24553"
  },
  {
   "cell_type": "code",
   "outputs": [
    {
     "name": "stderr",
     "output_type": "stream",
     "text": [
      "                                                                                \r"
     ]
    }
   ],
   "source": [
    "# Plot the coordinates to inspect data\n",
    "lat_long_df = final_df.select(\"Origin_Lat\", \"Origin_Long\").toPandas()"
   ],
   "metadata": {
    "collapsed": false,
    "ExecuteTime": {
     "end_time": "2024-01-07T21:17:38.771031788Z",
     "start_time": "2024-01-07T21:15:54.583284189Z"
    }
   },
   "id": "93d6ae02d816d4bb",
   "execution_count": 29
  },
  {
   "cell_type": "code",
   "outputs": [
    {
     "name": "stdout",
     "output_type": "stream",
     "text": [
      "Origin_Lat     float64\n",
      "Origin_Long    float64\n",
      "dtype: object\n"
     ]
    },
    {
     "data": {
      "text/plain": "<Figure size 1000x600 with 1 Axes>",
      "image/png": "[encoded data removed]"
     },
     "metadata": {},
     "output_type": "display_data"
    }
   ],
   "source": [
    "import matplotlib.pyplot as plt\n",
    "import pandas as pd\n",
    "# Taking a random sample of the data if it's too large\n",
    "sample_df = lat_long_df.sample(frac=1)  # Adjust frac as needed\n",
    "\n",
    "# Convert the 'Origin_Lat' and 'Origin_Long' columns to numeric (floats)\n",
    "sample_df['Origin_Lat'] = pd.to_numeric(sample_df['Origin_Lat'], errors='coerce')\n",
    "sample_df['Origin_Long'] = pd.to_numeric(sample_df['Origin_Long'], errors='coerce')\n",
    "\n",
    "# Check the conversion\n",
    "print(sample_df.dtypes)\n",
    "\n",
    "# Now create the scatter plot\n",
    "plt.figure(figsize=(10, 6))\n",
    "plt.scatter(x=sample_df[\"Origin_Long\"], y=sample_df[\"Origin_Lat\"], alpha=1,s=2)\n",
    "plt.title(\"Scatter Plot of Origin Coordinates\")\n",
    "plt.xlabel(\"Longitude\")\n",
    "plt.ylabel(\"Latitude\")\n",
    "plt.grid(True)\n",
    "plt.show()"
   ],
   "metadata": {
    "collapsed": false,
    "ExecuteTime": {
     "end_time": "2024-01-07T21:18:57.682919196Z",
     "start_time": "2024-01-07T21:18:54.440494742Z"
    }
   },
   "id": "e74079d00f040f8c",
   "execution_count": 30
  },
  {
   "cell_type": "code",
   "outputs": [
    {
     "data": {
      "text/plain": "<Figure size 1000x600 with 1 Axes>",
      "image/png": "[encoded data removed]"
     },
     "metadata": {},
     "output_type": "display_data"
    }
   ],
   "source": [
    "import pandas as pd\n",
    "import matplotlib.pyplot as plt\n",
    "\n",
    "# Assuming your DataFrame is named sample_df and has been converted to numeric types\n",
    "\n",
    "# Calculate Q1, Q3, and IQR for Latitude\n",
    "Q1_lat = sample_df['Origin_Lat'].quantile(0.25)\n",
    "Q3_lat = sample_df['Origin_Lat'].quantile(0.75)\n",
    "IQR_lat = Q3_lat - Q1_lat\n",
    "\n",
    "# Calculate Q1, Q3, and IQR for Longitude\n",
    "Q1_long = sample_df['Origin_Long'].quantile(0.25)\n",
    "Q3_long = sample_df['Origin_Long'].quantile(0.75)\n",
    "IQR_long = Q3_long - Q1_long\n",
    "\n",
    "# Define bounds for outliers\n",
    "lower_bound_lat = Q1_lat - 1.5 * IQR_lat\n",
    "upper_bound_lat = Q3_lat + 1.5 * IQR_lat\n",
    "lower_bound_long = Q1_long - 1.5 * IQR_long\n",
    "upper_bound_long = Q3_long + 1.5 * IQR_long\n",
    "\n",
    "# Filter out outliers\n",
    "filtered_df = sample_df[(sample_df['Origin_Lat'] >= lower_bound_lat) & \n",
    "                        (sample_df['Origin_Lat'] <= upper_bound_lat) &\n",
    "                        (sample_df['Origin_Long'] >= lower_bound_long) & \n",
    "                        (sample_df['Origin_Long'] <= upper_bound_long)]\n",
    "\n",
    "# Now create the scatter plot with smaller points and without outliers\n",
    "plt.figure(figsize=(10, 6))\n",
    "plt.scatter(x=filtered_df[\"Origin_Long\"], y=filtered_df[\"Origin_Lat\"], alpha=0.1, s=2)\n",
    "plt.title(\"Scatter Plot of Origin Coordinates (Outliers Removed)\")\n",
    "plt.xlabel(\"Longitude\")\n",
    "plt.ylabel(\"Latitude\")\n",
    "plt.grid(True)\n",
    "plt.show()\n"
   ],
   "metadata": {
    "collapsed": false,
    "ExecuteTime": {
     "end_time": "2024-01-07T21:19:02.447784103Z",
     "start_time": "2024-01-07T21:19:01.148436513Z"
    }
   },
   "id": "7f594c2c47d65fb6",
   "execution_count": 31
  },
  {
   "cell_type": "markdown",
   "source": [
    "## Correlation"
   ],
   "metadata": {
    "collapsed": false
   },
   "id": "a27e49f6911b55f2"
  },
  {
   "cell_type": "code",
   "outputs": [
    {
     "name": "stderr",
     "output_type": "stream",
     "text": [
      "24/01/07 22:51:20 WARN RowBasedKeyValueBatch: Calling spill() on RowBasedKeyValueBatch. Will not spill but return 0.\n",
      "24/01/07 22:51:21 WARN RowBasedKeyValueBatch: Calling spill() on RowBasedKeyValueBatch. Will not spill but return 0.\n",
      "24/01/07 22:51:21 WARN RowBasedKeyValueBatch: Calling spill() on RowBasedKeyValueBatch. Will not spill but return 0.\n",
      "24/01/07 22:51:21 WARN RowBasedKeyValueBatch: Calling spill() on RowBasedKeyValueBatch. Will not spill but return 0.\n",
      "24/01/07 22:51:21 WARN RowBasedKeyValueBatch: Calling spill() on RowBasedKeyValueBatch. Will not spill but return 0.\n",
      "24/01/07 22:51:21 WARN RowBasedKeyValueBatch: Calling spill() on RowBasedKeyValueBatch. Will not spill but return 0.\n",
      "24/01/07 22:51:21 WARN RowBasedKeyValueBatch: Calling spill() on RowBasedKeyValueBatch. Will not spill but return 0.\n",
      "24/01/07 22:51:21 WARN RowBasedKeyValueBatch: Calling spill() on RowBasedKeyValueBatch. Will not spill but return 0.\n",
      "24/01/07 22:51:21 WARN RowBasedKeyValueBatch: Calling spill() on RowBasedKeyValueBatch. Will not spill but return 0.\n",
      "24/01/07 22:51:21 WARN RowBasedKeyValueBatch: Calling spill() on RowBasedKeyValueBatch. Will not spill but return 0.\n",
      "24/01/07 22:51:21 WARN RowBasedKeyValueBatch: Calling spill() on RowBasedKeyValueBatch. Will not spill but return 0.\n",
      "24/01/07 22:51:21 WARN RowBasedKeyValueBatch: Calling spill() on RowBasedKeyValueBatch. Will not spill but return 0.\n",
      "24/01/07 22:51:21 WARN RowBasedKeyValueBatch: Calling spill() on RowBasedKeyValueBatch. Will not spill but return 0.\n",
      "24/01/07 22:51:21 WARN RowBasedKeyValueBatch: Calling spill() on RowBasedKeyValueBatch. Will not spill but return 0.\n",
      "24/01/07 22:51:26 WARN RowBasedKeyValueBatch: Calling spill() on RowBasedKeyValueBatch. Will not spill but return 0.\n",
      "24/01/07 22:51:26 WARN RowBasedKeyValueBatch: Calling spill() on RowBasedKeyValueBatch. Will not spill but return 0.\n",
      "24/01/07 22:51:26 WARN RowBasedKeyValueBatch: Calling spill() on RowBasedKeyValueBatch. Will not spill but return 0.\n",
      "24/01/07 22:51:26 WARN RowBasedKeyValueBatch: Calling spill() on RowBasedKeyValueBatch. Will not spill but return 0.\n",
      "24/01/07 22:51:26 WARN RowBasedKeyValueBatch: Calling spill() on RowBasedKeyValueBatch. Will not spill but return 0.\n",
      "24/01/07 22:51:26 WARN RowBasedKeyValueBatch: Calling spill() on RowBasedKeyValueBatch. Will not spill but return 0.\n",
      "24/01/07 22:51:26 WARN RowBasedKeyValueBatch: Calling spill() on RowBasedKeyValueBatch. Will not spill but return 0.\n",
      "24/01/07 22:51:26 WARN RowBasedKeyValueBatch: Calling spill() on RowBasedKeyValueBatch. Will not spill but return 0.\n",
      "24/01/07 22:51:27 WARN RowBasedKeyValueBatch: Calling spill() on RowBasedKeyValueBatch. Will not spill but return 0.\n",
      "24/01/07 22:51:27 WARN RowBasedKeyValueBatch: Calling spill() on RowBasedKeyValueBatch. Will not spill but return 0.\n",
      "24/01/07 22:51:27 WARN RowBasedKeyValueBatch: Calling spill() on RowBasedKeyValueBatch. Will not spill but return 0.\n",
      "24/01/07 22:51:27 WARN RowBasedKeyValueBatch: Calling spill() on RowBasedKeyValueBatch. Will not spill but return 0.\n",
      "24/01/07 22:51:27 WARN RowBasedKeyValueBatch: Calling spill() on RowBasedKeyValueBatch. Will not spill but return 0.\n",
      "24/01/07 22:51:27 WARN RowBasedKeyValueBatch: Calling spill() on RowBasedKeyValueBatch. Will not spill but return 0.\n",
      "24/01/07 22:51:27 WARN RowBasedKeyValueBatch: Calling spill() on RowBasedKeyValueBatch. Will not spill but return 0.\n",
      "24/01/07 22:51:27 WARN RowBasedKeyValueBatch: Calling spill() on RowBasedKeyValueBatch. Will not spill but return 0.\n",
      "                                                                                \r"
     ]
    }
   ],
   "source": [
    "from pyspark.ml.feature import VectorAssembler\n",
    "from pyspark.ml.stat import Correlation\n",
    "\n",
    "# Select the numerical columns you want to include in the correlation analysis\n",
    "numerical_cols = [col_name for col_name, data_type in final_df.dtypes if data_type == 'int' or data_type == 'double']\n",
    "\n",
    "\n",
    "\n",
    "# Create a vector assembler to assemble the features\n",
    "assembler = VectorAssembler(inputCols=numerical_cols, outputCol=\"features\")\n",
    "assembled_df = assembler.transform(final_df)\n",
    "\n",
    "# Calculate the correlation matrix\n",
    "corr_matrix = Correlation.corr(assembled_df, \"features\").head()[0]\n"
   ],
   "metadata": {
    "collapsed": false,
    "ExecuteTime": {
     "end_time": "2024-01-07T21:51:36.070285098Z",
     "start_time": "2024-01-07T21:49:40.442573045Z"
    }
   },
   "id": "5bc6d0f2a064c470",
   "execution_count": 45
  },
  {
   "cell_type": "code",
   "outputs": [
    {
     "data": {
      "text/plain": "<Figure size 1000x800 with 2 Axes>",
      "image/png": "[encoded data removed]"
     },
     "metadata": {},
     "output_type": "display_data"
    }
   ],
   "source": [
    "import seaborn as sns\n",
    "import matplotlib.pyplot as plt\n",
    "import pandas as pd\n",
    "\n",
    "# Convert the correlation matrix to a Pandas DataFrame for visualization\n",
    "corr_df = pd.DataFrame(corr_matrix.toArray(), columns=numerical_cols, index=numerical_cols)\n",
    "\n",
    "# Create a heatmap\n",
    "plt.figure(figsize=(10, 8))\n",
    "sns.heatmap(corr_df, annot=True, cmap='coolwarm', fmt=\".2f\")\n",
    "plt.title(\"Correlation Heatmap\")\n",
    "plt.show()\n"
   ],
   "metadata": {
    "collapsed": false,
    "ExecuteTime": {
     "end_time": "2024-01-07T21:56:49.627215257Z",
     "start_time": "2024-01-07T21:56:48.612753037Z"
    }
   },
   "id": "32f89c0cf59ccad1",
   "execution_count": 46
  },
  {
   "cell_type": "code",
   "outputs": [
    {
     "name": "stdout",
     "output_type": "stream",
     "text": [
      "root\n",
      " |-- Month: integer (nullable = true)\n",
      " |-- DayofMonth: integer (nullable = true)\n",
      " |-- DayOfWeek: integer (nullable = true)\n",
      " |-- DepTime: integer (nullable = true)\n",
      " |-- FlightNum: integer (nullable = true)\n",
      " |-- ArrDelay: integer (nullable = true)\n",
      " |-- DepDelay: integer (nullable = true)\n",
      " |-- Distance: integer (nullable = true)\n",
      " |-- Origin_Lat: double (nullable = true)\n",
      " |-- Origin_Long: double (nullable = true)\n",
      " |-- Dest_Lat: double (nullable = true)\n",
      " |-- Dest_Long: double (nullable = true)\n",
      " |-- UniqueCarrierIndex: double (nullable = false)\n",
      " |-- UniqueCarrierVec: vector (nullable = true)\n"
     ]
    }
   ],
   "source": [
    "#We drop some columns that are higly correlated with another\n",
    "\n",
    "final_df = final_df.drop(\"CRSElapsedTime\",\"CRSElapsedTime\",\"CRSArrTime\",\"CRSDepTime\")\n",
    "\n",
    "final_df.printSchema()"
   ],
   "metadata": {
    "collapsed": false,
    "ExecuteTime": {
     "end_time": "2024-01-07T22:10:48.915210114Z",
     "start_time": "2024-01-07T22:10:48.852092452Z"
    }
   },
   "id": "e75516ce2a0aa986",
   "execution_count": 49
  },
  {
   "cell_type": "markdown",
   "id": "4dbe2739-b21b-4f0e-a506-ab6d6e834374",
   "metadata": {},
   "source": [
    "## Variable creation"
   ]
  },
  {
   "cell_type": "code",
   "outputs": [],
   "source": [],
   "metadata": {
    "collapsed": false
   },
   "id": "d3e6af21191fddc9"
  },
  {
   "cell_type": "code",
   "outputs": [],
   "source": [],
   "metadata": {
    "collapsed": false
   },
   "id": "66c07786201c399d"
  },
  {
   "cell_type": "code",
   "execution_count": null,
   "id": "1abee2f2-cce6-4102-ac53-295b123f6327",
   "metadata": {},
   "outputs": [],
   "source": []
  },
  {
   "cell_type": "markdown",
   "id": "6b4ea91b-eed6-4c75-a259-574b91ae2856",
   "metadata": {},
   "source": [
    "# Modeling"
   ]
  },
  {
   "cell_type": "code",
   "execution_count": 50,
   "id": "6044f3cc-7adc-436e-ae23-b23ec00537b2",
   "metadata": {
    "ExecuteTime": {
     "end_time": "2024-01-07T22:13:37.368222140Z",
     "start_time": "2024-01-07T22:13:37.307645272Z"
    }
   },
   "outputs": [],
   "source": [
    "from pyspark.sql import SparkSession\n",
    "from pyspark.ml.regression import LinearRegression\n",
    "from pyspark.ml.feature import VectorAssembler"
   ]
  },
  {
   "cell_type": "code",
   "outputs": [],
   "source": [
    "# Assuming your target variable is \"ArrDelay\" and your feature columns are selected\n",
    "feature_columns = [\"Month\", \"DayofMonth\", \"DayOfWeek\", \"DepTime\", \"FlightNum\", \"DepDelay\", \"Distance\", \"Origin_Lat\", \"Origin_Long\", \"Dest_Lat\", \"Dest_Long\", \"UniqueCarrierIndex\"]\n",
    "assembler = VectorAssembler(inputCols=feature_columns, outputCol=\"features\")\n",
    "assembled_data = assembler.transform(final_df)"
   ],
   "metadata": {
    "collapsed": false,
    "ExecuteTime": {
     "end_time": "2024-01-07T22:13:38.796507813Z",
     "start_time": "2024-01-07T22:13:38.716357887Z"
    }
   },
   "id": "ec67287e565ee072",
   "execution_count": 51
  },
  {
   "cell_type": "code",
   "outputs": [],
   "source": [
    "train_data, test_data = assembled_data.randomSplit([0.7, 0.3], seed=123)"
   ],
   "metadata": {
    "collapsed": false,
    "ExecuteTime": {
     "end_time": "2024-01-07T22:13:41.222336282Z",
     "start_time": "2024-01-07T22:13:41.183763323Z"
    }
   },
   "id": "f051b950b26e2815",
   "execution_count": 52
  },
  {
   "cell_type": "code",
   "outputs": [
    {
     "name": "stderr",
     "output_type": "stream",
     "text": [
      "24/01/07 23:26:35 WARN RowBasedKeyValueBatch: Calling spill() on RowBasedKeyValueBatch. Will not spill but return 0.\n",
      "24/01/07 23:26:36 WARN RowBasedKeyValueBatch: Calling spill() on RowBasedKeyValueBatch. Will not spill but return 0.\n",
      "24/01/07 23:26:36 WARN RowBasedKeyValueBatch: Calling spill() on RowBasedKeyValueBatch. Will not spill but return 0.\n",
      "24/01/07 23:26:36 WARN RowBasedKeyValueBatch: Calling spill() on RowBasedKeyValueBatch. Will not spill but return 0.\n",
      "24/01/07 23:26:36 WARN RowBasedKeyValueBatch: Calling spill() on RowBasedKeyValueBatch. Will not spill but return 0.\n",
      "24/01/07 23:26:36 WARN RowBasedKeyValueBatch: Calling spill() on RowBasedKeyValueBatch. Will not spill but return 0.\n",
      "24/01/07 23:26:36 WARN RowBasedKeyValueBatch: Calling spill() on RowBasedKeyValueBatch. Will not spill but return 0.\n",
      "24/01/07 23:26:36 WARN RowBasedKeyValueBatch: Calling spill() on RowBasedKeyValueBatch. Will not spill but return 0.\n",
      "24/01/07 23:26:36 WARN RowBasedKeyValueBatch: Calling spill() on RowBasedKeyValueBatch. Will not spill but return 0.\n",
      "24/01/07 23:26:36 WARN RowBasedKeyValueBatch: Calling spill() on RowBasedKeyValueBatch. Will not spill but return 0.\n",
      "24/01/07 23:26:36 WARN RowBasedKeyValueBatch: Calling spill() on RowBasedKeyValueBatch. Will not spill but return 0.\n",
      "24/01/07 23:26:36 WARN RowBasedKeyValueBatch: Calling spill() on RowBasedKeyValueBatch. Will not spill but return 0.\n",
      "24/01/07 23:26:36 WARN RowBasedKeyValueBatch: Calling spill() on RowBasedKeyValueBatch. Will not spill but return 0.\n",
      "24/01/07 23:26:36 WARN RowBasedKeyValueBatch: Calling spill() on RowBasedKeyValueBatch. Will not spill but return 0.\n",
      "24/01/07 23:26:41 WARN RowBasedKeyValueBatch: Calling spill() on RowBasedKeyValueBatch. Will not spill but return 0.\n",
      "24/01/07 23:26:41 WARN RowBasedKeyValueBatch: Calling spill() on RowBasedKeyValueBatch. Will not spill but return 0.\n",
      "24/01/07 23:26:41 WARN RowBasedKeyValueBatch: Calling spill() on RowBasedKeyValueBatch. Will not spill but return 0.\n",
      "24/01/07 23:26:41 WARN RowBasedKeyValueBatch: Calling spill() on RowBasedKeyValueBatch. Will not spill but return 0.\n",
      "24/01/07 23:26:41 WARN RowBasedKeyValueBatch: Calling spill() on RowBasedKeyValueBatch. Will not spill but return 0.\n",
      "24/01/07 23:26:41 WARN RowBasedKeyValueBatch: Calling spill() on RowBasedKeyValueBatch. Will not spill but return 0.\n",
      "24/01/07 23:26:41 WARN RowBasedKeyValueBatch: Calling spill() on RowBasedKeyValueBatch. Will not spill but return 0.\n",
      "24/01/07 23:26:41 WARN RowBasedKeyValueBatch: Calling spill() on RowBasedKeyValueBatch. Will not spill but return 0.\n",
      "24/01/07 23:26:41 WARN RowBasedKeyValueBatch: Calling spill() on RowBasedKeyValueBatch. Will not spill but return 0.\n",
      "24/01/07 23:26:41 WARN RowBasedKeyValueBatch: Calling spill() on RowBasedKeyValueBatch. Will not spill but return 0.\n",
      "24/01/07 23:26:41 WARN RowBasedKeyValueBatch: Calling spill() on RowBasedKeyValueBatch. Will not spill but return 0.\n",
      "24/01/07 23:26:41 WARN RowBasedKeyValueBatch: Calling spill() on RowBasedKeyValueBatch. Will not spill but return 0.\n",
      "24/01/07 23:26:41 WARN RowBasedKeyValueBatch: Calling spill() on RowBasedKeyValueBatch. Will not spill but return 0.\n",
      "24/01/07 23:26:41 WARN RowBasedKeyValueBatch: Calling spill() on RowBasedKeyValueBatch. Will not spill but return 0.\n",
      "24/01/07 23:26:41 WARN RowBasedKeyValueBatch: Calling spill() on RowBasedKeyValueBatch. Will not spill but return 0.\n",
      "24/01/07 23:26:41 WARN RowBasedKeyValueBatch: Calling spill() on RowBasedKeyValueBatch. Will not spill but return 0.\n",
      "24/01/07 23:28:15 WARN RowBasedKeyValueBatch: Calling spill() on RowBasedKeyValueBatch. Will not spill but return 0.\n",
      "24/01/07 23:28:15 WARN RowBasedKeyValueBatch: Calling spill() on RowBasedKeyValueBatch. Will not spill but return 0.\n",
      "24/01/07 23:28:15 WARN RowBasedKeyValueBatch: Calling spill() on RowBasedKeyValueBatch. Will not spill but return 0.\n",
      "24/01/07 23:28:15 WARN RowBasedKeyValueBatch: Calling spill() on RowBasedKeyValueBatch. Will not spill but return 0.\n",
      "24/01/07 23:28:15 WARN RowBasedKeyValueBatch: Calling spill() on RowBasedKeyValueBatch. Will not spill but return 0.\n",
      "24/01/07 23:28:15 WARN RowBasedKeyValueBatch: Calling spill() on RowBasedKeyValueBatch. Will not spill but return 0.\n",
      "24/01/07 23:28:15 WARN RowBasedKeyValueBatch: Calling spill() on RowBasedKeyValueBatch. Will not spill but return 0.\n",
      "24/01/07 23:28:15 WARN RowBasedKeyValueBatch: Calling spill() on RowBasedKeyValueBatch. Will not spill but return 0.\n",
      "24/01/07 23:28:15 WARN RowBasedKeyValueBatch: Calling spill() on RowBasedKeyValueBatch. Will not spill but return 0.\n",
      "24/01/07 23:28:16 WARN RowBasedKeyValueBatch: Calling spill() on RowBasedKeyValueBatch. Will not spill but return 0.\n",
      "24/01/07 23:28:16 WARN RowBasedKeyValueBatch: Calling spill() on RowBasedKeyValueBatch. Will not spill but return 0.\n",
      "24/01/07 23:28:16 WARN RowBasedKeyValueBatch: Calling spill() on RowBasedKeyValueBatch. Will not spill but return 0.\n",
      "24/01/07 23:28:16 WARN RowBasedKeyValueBatch: Calling spill() on RowBasedKeyValueBatch. Will not spill but return 0.\n",
      "24/01/07 23:28:16 WARN RowBasedKeyValueBatch: Calling spill() on RowBasedKeyValueBatch. Will not spill but return 0.\n",
      "24/01/07 23:28:16 WARN RowBasedKeyValueBatch: Calling spill() on RowBasedKeyValueBatch. Will not spill but return 0.\n",
      "24/01/07 23:28:20 WARN RowBasedKeyValueBatch: Calling spill() on RowBasedKeyValueBatch. Will not spill but return 0.\n",
      "24/01/07 23:28:20 WARN RowBasedKeyValueBatch: Calling spill() on RowBasedKeyValueBatch. Will not spill but return 0.\n",
      "24/01/07 23:28:20 WARN RowBasedKeyValueBatch: Calling spill() on RowBasedKeyValueBatch. Will not spill but return 0.\n",
      "24/01/07 23:28:20 WARN RowBasedKeyValueBatch: Calling spill() on RowBasedKeyValueBatch. Will not spill but return 0.\n",
      "24/01/07 23:28:20 WARN RowBasedKeyValueBatch: Calling spill() on RowBasedKeyValueBatch. Will not spill but return 0.\n",
      "24/01/07 23:28:20 WARN RowBasedKeyValueBatch: Calling spill() on RowBasedKeyValueBatch. Will not spill but return 0.\n",
      "24/01/07 23:28:20 WARN RowBasedKeyValueBatch: Calling spill() on RowBasedKeyValueBatch. Will not spill but return 0.\n",
      "24/01/07 23:28:20 WARN RowBasedKeyValueBatch: Calling spill() on RowBasedKeyValueBatch. Will not spill but return 0.\n",
      "24/01/07 23:28:20 WARN RowBasedKeyValueBatch: Calling spill() on RowBasedKeyValueBatch. Will not spill but return 0.\n",
      "24/01/07 23:28:20 WARN RowBasedKeyValueBatch: Calling spill() on RowBasedKeyValueBatch. Will not spill but return 0.\n",
      "24/01/07 23:28:20 WARN RowBasedKeyValueBatch: Calling spill() on RowBasedKeyValueBatch. Will not spill but return 0.\n",
      "24/01/07 23:28:20 WARN RowBasedKeyValueBatch: Calling spill() on RowBasedKeyValueBatch. Will not spill but return 0.\n",
      "24/01/07 23:28:20 WARN RowBasedKeyValueBatch: Calling spill() on RowBasedKeyValueBatch. Will not spill but return 0.\n",
      "24/01/07 23:28:20 WARN RowBasedKeyValueBatch: Calling spill() on RowBasedKeyValueBatch. Will not spill but return 0.\n",
      "24/01/07 23:28:20 WARN RowBasedKeyValueBatch: Calling spill() on RowBasedKeyValueBatch. Will not spill but return 0.\n",
      "24/01/07 23:28:20 WARN RowBasedKeyValueBatch: Calling spill() on RowBasedKeyValueBatch. Will not spill but return 0.\n",
      "24/01/07 23:29:59 WARN RowBasedKeyValueBatch: Calling spill() on RowBasedKeyValueBatch. Will not spill but return 0.\n",
      "24/01/07 23:29:59 WARN RowBasedKeyValueBatch: Calling spill() on RowBasedKeyValueBatch. Will not spill but return 0.\n",
      "24/01/07 23:29:59 WARN RowBasedKeyValueBatch: Calling spill() on RowBasedKeyValueBatch. Will not spill but return 0.\n",
      "24/01/07 23:29:59 WARN RowBasedKeyValueBatch: Calling spill() on RowBasedKeyValueBatch. Will not spill but return 0.\n",
      "24/01/07 23:29:59 WARN RowBasedKeyValueBatch: Calling spill() on RowBasedKeyValueBatch. Will not spill but return 0.\n",
      "24/01/07 23:29:59 WARN RowBasedKeyValueBatch: Calling spill() on RowBasedKeyValueBatch. Will not spill but return 0.\n",
      "24/01/07 23:29:59 WARN RowBasedKeyValueBatch: Calling spill() on RowBasedKeyValueBatch. Will not spill but return 0.\n",
      "24/01/07 23:29:59 WARN RowBasedKeyValueBatch: Calling spill() on RowBasedKeyValueBatch. Will not spill but return 0.\n",
      "24/01/07 23:29:59 WARN RowBasedKeyValueBatch: Calling spill() on RowBasedKeyValueBatch. Will not spill but return 0.\n",
      "24/01/07 23:29:59 WARN RowBasedKeyValueBatch: Calling spill() on RowBasedKeyValueBatch. Will not spill but return 0.\n",
      "24/01/07 23:29:59 WARN RowBasedKeyValueBatch: Calling spill() on RowBasedKeyValueBatch. Will not spill but return 0.\n",
      "24/01/07 23:30:00 WARN RowBasedKeyValueBatch: Calling spill() on RowBasedKeyValueBatch. Will not spill but return 0.\n",
      "24/01/07 23:30:00 WARN RowBasedKeyValueBatch: Calling spill() on RowBasedKeyValueBatch. Will not spill but return 0.\n",
      "24/01/07 23:30:00 WARN RowBasedKeyValueBatch: Calling spill() on RowBasedKeyValueBatch. Will not spill but return 0.\n",
      "24/01/07 23:30:00 WARN RowBasedKeyValueBatch: Calling spill() on RowBasedKeyValueBatch. Will not spill but return 0.\n",
      "24/01/07 23:30:05 WARN RowBasedKeyValueBatch: Calling spill() on RowBasedKeyValueBatch. Will not spill but return 0.\n",
      "24/01/07 23:30:05 WARN RowBasedKeyValueBatch: Calling spill() on RowBasedKeyValueBatch. Will not spill but return 0.\n",
      "24/01/07 23:30:05 WARN RowBasedKeyValueBatch: Calling spill() on RowBasedKeyValueBatch. Will not spill but return 0.\n",
      "24/01/07 23:30:05 WARN RowBasedKeyValueBatch: Calling spill() on RowBasedKeyValueBatch. Will not spill but return 0.\n",
      "24/01/07 23:30:05 WARN RowBasedKeyValueBatch: Calling spill() on RowBasedKeyValueBatch. Will not spill but return 0.\n",
      "24/01/07 23:30:05 WARN RowBasedKeyValueBatch: Calling spill() on RowBasedKeyValueBatch. Will not spill but return 0.\n",
      "24/01/07 23:30:05 WARN RowBasedKeyValueBatch: Calling spill() on RowBasedKeyValueBatch. Will not spill but return 0.\n",
      "24/01/07 23:30:05 WARN RowBasedKeyValueBatch: Calling spill() on RowBasedKeyValueBatch. Will not spill but return 0.\n",
      "24/01/07 23:30:05 WARN RowBasedKeyValueBatch: Calling spill() on RowBasedKeyValueBatch. Will not spill but return 0.\n",
      "24/01/07 23:30:05 WARN RowBasedKeyValueBatch: Calling spill() on RowBasedKeyValueBatch. Will not spill but return 0.\n",
      "24/01/07 23:30:05 WARN RowBasedKeyValueBatch: Calling spill() on RowBasedKeyValueBatch. Will not spill but return 0.\n",
      "24/01/07 23:30:05 WARN RowBasedKeyValueBatch: Calling spill() on RowBasedKeyValueBatch. Will not spill but return 0.\n",
      "24/01/07 23:30:05 WARN RowBasedKeyValueBatch: Calling spill() on RowBasedKeyValueBatch. Will not spill but return 0.\n",
      "24/01/07 23:30:05 WARN RowBasedKeyValueBatch: Calling spill() on RowBasedKeyValueBatch. Will not spill but return 0.\n",
      "24/01/07 23:30:05 WARN RowBasedKeyValueBatch: Calling spill() on RowBasedKeyValueBatch. Will not spill but return 0.\n",
      "24/01/07 23:30:05 WARN RowBasedKeyValueBatch: Calling spill() on RowBasedKeyValueBatch. Will not spill but return 0.\n",
      "                                                                                \r"
     ]
    }
   ],
   "source": [
    "lr = LinearRegression(featuresCol=\"features\", labelCol=\"ArrDelay\",regParam=0.01)\n",
    "lr_model = lr.fit(train_data)\n"
   ],
   "metadata": {
    "collapsed": false,
    "ExecuteTime": {
     "end_time": "2024-01-07T22:30:10.169040353Z",
     "start_time": "2024-01-07T22:25:01.172783338Z"
    }
   },
   "id": "50200798e53ee12",
   "execution_count": 55
  },
  {
   "cell_type": "code",
   "outputs": [
    {
     "name": "stderr",
     "output_type": "stream",
     "text": [
      "24/01/07 23:57:30 WARN RowBasedKeyValueBatch: Calling spill() on RowBasedKeyValueBatch. Will not spill but return 0.\n",
      "24/01/07 23:57:30 WARN RowBasedKeyValueBatch: Calling spill() on RowBasedKeyValueBatch. Will not spill but return 0.\n",
      "24/01/07 23:57:30 WARN RowBasedKeyValueBatch: Calling spill() on RowBasedKeyValueBatch. Will not spill but return 0.\n",
      "24/01/07 23:57:30 WARN RowBasedKeyValueBatch: Calling spill() on RowBasedKeyValueBatch. Will not spill but return 0.\n",
      "24/01/07 23:57:30 WARN RowBasedKeyValueBatch: Calling spill() on RowBasedKeyValueBatch. Will not spill but return 0.\n",
      "24/01/07 23:57:30 WARN RowBasedKeyValueBatch: Calling spill() on RowBasedKeyValueBatch. Will not spill but return 0.\n",
      "24/01/07 23:57:30 WARN RowBasedKeyValueBatch: Calling spill() on RowBasedKeyValueBatch. Will not spill but return 0.\n",
      "24/01/07 23:57:30 WARN RowBasedKeyValueBatch: Calling spill() on RowBasedKeyValueBatch. Will not spill but return 0.\n",
      "24/01/07 23:57:30 WARN RowBasedKeyValueBatch: Calling spill() on RowBasedKeyValueBatch. Will not spill but return 0.\n",
      "24/01/07 23:57:30 WARN RowBasedKeyValueBatch: Calling spill() on RowBasedKeyValueBatch. Will not spill but return 0.\n",
      "24/01/07 23:57:30 WARN RowBasedKeyValueBatch: Calling spill() on RowBasedKeyValueBatch. Will not spill but return 0.\n",
      "24/01/07 23:57:31 WARN RowBasedKeyValueBatch: Calling spill() on RowBasedKeyValueBatch. Will not spill but return 0.\n",
      "24/01/07 23:57:31 WARN RowBasedKeyValueBatch: Calling spill() on RowBasedKeyValueBatch. Will not spill but return 0.\n",
      "24/01/07 23:57:31 WARN RowBasedKeyValueBatch: Calling spill() on RowBasedKeyValueBatch. Will not spill but return 0.\n",
      "24/01/07 23:57:31 WARN RowBasedKeyValueBatch: Calling spill() on RowBasedKeyValueBatch. Will not spill but return 0.\n",
      "24/01/07 23:57:35 WARN RowBasedKeyValueBatch: Calling spill() on RowBasedKeyValueBatch. Will not spill but return 0.\n",
      "24/01/07 23:57:35 WARN RowBasedKeyValueBatch: Calling spill() on RowBasedKeyValueBatch. Will not spill but return 0.\n",
      "24/01/07 23:57:35 WARN RowBasedKeyValueBatch: Calling spill() on RowBasedKeyValueBatch. Will not spill but return 0.\n",
      "24/01/07 23:57:35 WARN RowBasedKeyValueBatch: Calling spill() on RowBasedKeyValueBatch. Will not spill but return 0.\n",
      "24/01/07 23:57:35 WARN RowBasedKeyValueBatch: Calling spill() on RowBasedKeyValueBatch. Will not spill but return 0.\n",
      "24/01/07 23:57:35 WARN RowBasedKeyValueBatch: Calling spill() on RowBasedKeyValueBatch. Will not spill but return 0.\n",
      "24/01/07 23:57:35 WARN RowBasedKeyValueBatch: Calling spill() on RowBasedKeyValueBatch. Will not spill but return 0.\n",
      "24/01/07 23:57:35 WARN RowBasedKeyValueBatch: Calling spill() on RowBasedKeyValueBatch. Will not spill but return 0.\n",
      "24/01/07 23:57:35 WARN RowBasedKeyValueBatch: Calling spill() on RowBasedKeyValueBatch. Will not spill but return 0.\n",
      "24/01/07 23:57:35 WARN RowBasedKeyValueBatch: Calling spill() on RowBasedKeyValueBatch. Will not spill but return 0.\n",
      "24/01/07 23:57:35 WARN RowBasedKeyValueBatch: Calling spill() on RowBasedKeyValueBatch. Will not spill but return 0.\n",
      "24/01/07 23:57:35 WARN RowBasedKeyValueBatch: Calling spill() on RowBasedKeyValueBatch. Will not spill but return 0.\n",
      "24/01/07 23:57:35 WARN RowBasedKeyValueBatch: Calling spill() on RowBasedKeyValueBatch. Will not spill but return 0.\n",
      "24/01/07 23:57:35 WARN RowBasedKeyValueBatch: Calling spill() on RowBasedKeyValueBatch. Will not spill but return 0.\n",
      "24/01/07 23:57:35 WARN RowBasedKeyValueBatch: Calling spill() on RowBasedKeyValueBatch. Will not spill but return 0.\n",
      "24/01/07 23:57:35 WARN RowBasedKeyValueBatch: Calling spill() on RowBasedKeyValueBatch. Will not spill but return 0.\n",
      "24/01/07 23:57:35 WARN RowBasedKeyValueBatch: Calling spill() on RowBasedKeyValueBatch. Will not spill but return 0.\n",
      "24/01/07 23:57:35 WARN RowBasedKeyValueBatch: Calling spill() on RowBasedKeyValueBatch. Will not spill but return 0.\n",
      "24/01/07 23:57:35 WARN RowBasedKeyValueBatch: Calling spill() on RowBasedKeyValueBatch. Will not spill but return 0.\n",
      "[Stage 333:==================================================>      (8 + 1) / 9]\r"
     ]
    },
    {
     "name": "stdout",
     "output_type": "stream",
     "text": [
      "Root Mean Squared Error (RMSE): 16.680207354746845\n",
      "R-squared (R2): 0.5918789628228565\n"
     ]
    },
    {
     "name": "stderr",
     "output_type": "stream",
     "text": [
      "                                                                                \r"
     ]
    }
   ],
   "source": [
    "test_results = lr_model.evaluate(test_data)\n",
    "\n",
    "# Print evaluation metrics\n",
    "print(\"Root Mean Squared Error (RMSE):\", test_results.rootMeanSquaredError)\n",
    "print(\"R-squared (R2):\", test_results.r2)"
   ],
   "metadata": {
    "collapsed": false,
    "ExecuteTime": {
     "end_time": "2024-01-07T22:57:41.786503100Z",
     "start_time": "2024-01-07T22:56:01.578791996Z"
    }
   },
   "id": "e5a56dc357e8c6a2",
   "execution_count": 56
  },
  {
   "cell_type": "markdown",
   "id": "30c8d2ab-1654-4868-9e55-1af0ef9d4ae8",
   "metadata": {},
   "source": [
    "# Validation"
   ]
  },
  {
   "cell_type": "code",
   "execution_count": null,
   "id": "97493a44-4e9f-447c-b82b-5ba63fbf39be",
   "metadata": {},
   "outputs": [],
   "source": []
  },
  {
   "cell_type": "markdown",
   "source": [
    "##Close the context"
   ],
   "metadata": {
    "collapsed": false
   },
   "id": "4e715faa356fe098"
  },
  {
   "cell_type": "code",
   "outputs": [],
   "source": [
    "spark.stop()"
   ],
   "metadata": {
    "collapsed": false
   },
   "id": "1bff8e312af807e9"
  }
 ],
 "metadata": {
  "kernelspec": {
   "display_name": "pyspark_venv",
   "language": "python",
   "name": "pyspark_venv"
  },
  "language_info": {
   "codemirror_mode": {
    "name": "ipython",
    "version": 3
   },
   "file_extension": ".py",
   "mimetype": "text/x-python",
   "name": "python",
   "nbconvert_exporter": "python",
   "pygments_lexer": "ipython3",
   "version": "3.12.1"
  }
 },
 "nbformat": 4,
 "nbformat_minor": 5
}
