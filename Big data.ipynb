{
 "cells": [
  {
   "cell_type": "code",
   "execution_count": 107,
   "id": "ad79cae3-14cd-4910-8b90-16eca9f38221",
   "metadata": {
    "tags": []
   },
   "outputs": [],
   "source": [
    "from pyspark.sql import SparkSession\n",
    "from pyspark.sql.functions import *\n",
    "\n",
    "# Create a SparkSession\n",
    "spark = SparkSession.builder.appName(\"App\").getOrCreate()\n",
    "spark.sparkContext.setLogLevel(\"WARN\")"
   ]
  },
  {
   "cell_type": "code",
   "execution_count": 108,
   "id": "409a5a8b-d019-41fb-aa35-53e68ce1832a",
   "metadata": {
    "tags": []
   },
   "outputs": [
    {
     "name": "stdout",
     "output_type": "stream",
     "text": [
      "+----+-----+----------+---------+-------+----------+-------+----------+-------------+---------+-------+-----------------+--------------+-------+--------+--------+------+----+--------+------+-------+---------+----------------+--------+------------+------------+--------+-------------+-----------------+\n",
      "|Year|Month|DayofMonth|DayOfWeek|DepTime|CRSDepTime|ArrTime|CRSArrTime|UniqueCarrier|FlightNum|TailNum|ActualElapsedTime|CRSElapsedTime|AirTime|ArrDelay|DepDelay|Origin|Dest|Distance|TaxiIn|TaxiOut|Cancelled|CancellationCode|Diverted|CarrierDelay|WeatherDelay|NASDelay|SecurityDelay|LateAircraftDelay|\n",
      "+----+-----+----------+---------+-------+----------+-------+----------+-------------+---------+-------+-----------------+--------------+-------+--------+--------+------+----+--------+------+-------+---------+----------------+--------+------------+------------+--------+-------------+-----------------+\n",
      "|1987|10   |14        |3        |741    |730       |912    |849       |PS           |1451     |NA     |91               |79            |NA     |23      |11      |SAN   |SFO |447     |NA    |NA     |0        |NA              |0       |NA          |NA          |NA      |NA           |NA               |\n",
      "|1987|10   |15        |4        |729    |730       |903    |849       |PS           |1451     |NA     |94               |79            |NA     |14      |-1      |SAN   |SFO |447     |NA    |NA     |0        |NA              |0       |NA          |NA          |NA      |NA           |NA               |\n",
      "|1987|10   |17        |6        |741    |730       |918    |849       |PS           |1451     |NA     |97               |79            |NA     |29      |11      |SAN   |SFO |447     |NA    |NA     |0        |NA              |0       |NA          |NA          |NA      |NA           |NA               |\n",
      "|1987|10   |18        |7        |729    |730       |847    |849       |PS           |1451     |NA     |78               |79            |NA     |-2      |-1      |SAN   |SFO |447     |NA    |NA     |0        |NA              |0       |NA          |NA          |NA      |NA           |NA               |\n",
      "|1987|10   |19        |1        |749    |730       |922    |849       |PS           |1451     |NA     |93               |79            |NA     |33      |19      |SAN   |SFO |447     |NA    |NA     |0        |NA              |0       |NA          |NA          |NA      |NA           |NA               |\n",
      "|1987|10   |21        |3        |728    |730       |848    |849       |PS           |1451     |NA     |80               |79            |NA     |-1      |-2      |SAN   |SFO |447     |NA    |NA     |0        |NA              |0       |NA          |NA          |NA      |NA           |NA               |\n",
      "|1987|10   |22        |4        |728    |730       |852    |849       |PS           |1451     |NA     |84               |79            |NA     |3       |-2      |SAN   |SFO |447     |NA    |NA     |0        |NA              |0       |NA          |NA          |NA      |NA           |NA               |\n",
      "|1987|10   |23        |5        |731    |730       |902    |849       |PS           |1451     |NA     |91               |79            |NA     |13      |1       |SAN   |SFO |447     |NA    |NA     |0        |NA              |0       |NA          |NA          |NA      |NA           |NA               |\n",
      "|1987|10   |24        |6        |744    |730       |908    |849       |PS           |1451     |NA     |84               |79            |NA     |19      |14      |SAN   |SFO |447     |NA    |NA     |0        |NA              |0       |NA          |NA          |NA      |NA           |NA               |\n",
      "|1987|10   |25        |7        |729    |730       |851    |849       |PS           |1451     |NA     |82               |79            |NA     |2       |-1      |SAN   |SFO |447     |NA    |NA     |0        |NA              |0       |NA          |NA          |NA      |NA           |NA               |\n",
      "|1987|10   |26        |1        |735    |730       |904    |849       |PS           |1451     |NA     |89               |79            |NA     |15      |5       |SAN   |SFO |447     |NA    |NA     |0        |NA              |0       |NA          |NA          |NA      |NA           |NA               |\n",
      "|1987|10   |28        |3        |741    |725       |919    |855       |PS           |1451     |NA     |98               |90            |NA     |24      |16      |SAN   |SFO |447     |NA    |NA     |0        |NA              |0       |NA          |NA          |NA      |NA           |NA               |\n",
      "|1987|10   |29        |4        |742    |725       |906    |855       |PS           |1451     |NA     |84               |90            |NA     |11      |17      |SAN   |SFO |447     |NA    |NA     |0        |NA              |0       |NA          |NA          |NA      |NA           |NA               |\n",
      "|1987|10   |31        |6        |726    |725       |848    |855       |PS           |1451     |NA     |82               |90            |NA     |-7      |1       |SAN   |SFO |447     |NA    |NA     |0        |NA              |0       |NA          |NA          |NA      |NA           |NA               |\n",
      "|1987|10   |1         |4        |936    |915       |1035   |1001      |PS           |1451     |NA     |59               |46            |NA     |34      |21      |SFO   |RNO |192     |NA    |NA     |0        |NA              |0       |NA          |NA          |NA      |NA           |NA               |\n",
      "+----+-----+----------+---------+-------+----------+-------+----------+-------------+---------+-------+-----------------+--------------+-------+--------+--------+------+----+--------+------+-------+---------+----------------+--------+------------+------------+--------+-------------+-----------------+\n",
      "only showing top 15 rows\n",
      "\n"
     ]
    }
   ],
   "source": [
    "# Cargar el archivo CSV con la primera fila como encabezado\n",
    "df = spark.read.format(\"csv\").option(\"delimiter\", \",\").option(\"header\", \"true\").load(\"1987.csv\")\n",
    "\n",
    "# Mostrar las columnas y las primeras 15 filas\n",
    "df.show(15, truncate=False)"
   ]
  },
  {
   "cell_type": "code",
   "execution_count": 109,
   "id": "4e0a44fd-92a8-4c32-9acd-ba2a71946d10",
   "metadata": {
    "tags": []
   },
   "outputs": [
    {
     "name": "stdout",
     "output_type": "stream",
     "text": [
      "+----+-----+----------+---------+-------+----------+-------+----------+-------------+---------+-------+-----------------+--------------+-------+--------+--------+------+----+--------+------+-------+---------+----------------+--------+------------+------------+--------+-------------+-----------------+\n",
      "|Year|Month|DayofMonth|DayOfWeek|DepTime|CRSDepTime|ArrTime|CRSArrTime|UniqueCarrier|FlightNum|TailNum|ActualElapsedTime|CRSElapsedTime|AirTime|ArrDelay|DepDelay|Origin|Dest|Distance|TaxiIn|TaxiOut|Cancelled|CancellationCode|Diverted|CarrierDelay|WeatherDelay|NASDelay|SecurityDelay|LateAircraftDelay|\n",
      "+----+-----+----------+---------+-------+----------+-------+----------+-------------+---------+-------+-----------------+--------------+-------+--------+--------+------+----+--------+------+-------+---------+----------------+--------+------------+------------+--------+-------------+-----------------+\n",
      "|1987|   10|        14|        3|    741|       730|    912|       849|           PS|     1451|   NULL|               91|            79|   NULL|      23|      11|   SAN| SFO|     447|  NULL|   NULL|        0|            NULL|       0|        NULL|        NULL|    NULL|         NULL|             NULL|\n",
      "|1987|   10|        15|        4|    729|       730|    903|       849|           PS|     1451|   NULL|               94|            79|   NULL|      14|      -1|   SAN| SFO|     447|  NULL|   NULL|        0|            NULL|       0|        NULL|        NULL|    NULL|         NULL|             NULL|\n",
      "|1987|   10|        17|        6|    741|       730|    918|       849|           PS|     1451|   NULL|               97|            79|   NULL|      29|      11|   SAN| SFO|     447|  NULL|   NULL|        0|            NULL|       0|        NULL|        NULL|    NULL|         NULL|             NULL|\n",
      "|1987|   10|        18|        7|    729|       730|    847|       849|           PS|     1451|   NULL|               78|            79|   NULL|      -2|      -1|   SAN| SFO|     447|  NULL|   NULL|        0|            NULL|       0|        NULL|        NULL|    NULL|         NULL|             NULL|\n",
      "|1987|   10|        19|        1|    749|       730|    922|       849|           PS|     1451|   NULL|               93|            79|   NULL|      33|      19|   SAN| SFO|     447|  NULL|   NULL|        0|            NULL|       0|        NULL|        NULL|    NULL|         NULL|             NULL|\n",
      "|1987|   10|        21|        3|    728|       730|    848|       849|           PS|     1451|   NULL|               80|            79|   NULL|      -1|      -2|   SAN| SFO|     447|  NULL|   NULL|        0|            NULL|       0|        NULL|        NULL|    NULL|         NULL|             NULL|\n",
      "|1987|   10|        22|        4|    728|       730|    852|       849|           PS|     1451|   NULL|               84|            79|   NULL|       3|      -2|   SAN| SFO|     447|  NULL|   NULL|        0|            NULL|       0|        NULL|        NULL|    NULL|         NULL|             NULL|\n",
      "|1987|   10|        23|        5|    731|       730|    902|       849|           PS|     1451|   NULL|               91|            79|   NULL|      13|       1|   SAN| SFO|     447|  NULL|   NULL|        0|            NULL|       0|        NULL|        NULL|    NULL|         NULL|             NULL|\n",
      "|1987|   10|        24|        6|    744|       730|    908|       849|           PS|     1451|   NULL|               84|            79|   NULL|      19|      14|   SAN| SFO|     447|  NULL|   NULL|        0|            NULL|       0|        NULL|        NULL|    NULL|         NULL|             NULL|\n",
      "|1987|   10|        25|        7|    729|       730|    851|       849|           PS|     1451|   NULL|               82|            79|   NULL|       2|      -1|   SAN| SFO|     447|  NULL|   NULL|        0|            NULL|       0|        NULL|        NULL|    NULL|         NULL|             NULL|\n",
      "|1987|   10|        26|        1|    735|       730|    904|       849|           PS|     1451|   NULL|               89|            79|   NULL|      15|       5|   SAN| SFO|     447|  NULL|   NULL|        0|            NULL|       0|        NULL|        NULL|    NULL|         NULL|             NULL|\n",
      "|1987|   10|        28|        3|    741|       725|    919|       855|           PS|     1451|   NULL|               98|            90|   NULL|      24|      16|   SAN| SFO|     447|  NULL|   NULL|        0|            NULL|       0|        NULL|        NULL|    NULL|         NULL|             NULL|\n",
      "|1987|   10|        29|        4|    742|       725|    906|       855|           PS|     1451|   NULL|               84|            90|   NULL|      11|      17|   SAN| SFO|     447|  NULL|   NULL|        0|            NULL|       0|        NULL|        NULL|    NULL|         NULL|             NULL|\n",
      "|1987|   10|        31|        6|    726|       725|    848|       855|           PS|     1451|   NULL|               82|            90|   NULL|      -7|       1|   SAN| SFO|     447|  NULL|   NULL|        0|            NULL|       0|        NULL|        NULL|    NULL|         NULL|             NULL|\n",
      "|1987|   10|         1|        4|    936|       915|   1035|      1001|           PS|     1451|   NULL|               59|            46|   NULL|      34|      21|   SFO| RNO|     192|  NULL|   NULL|        0|            NULL|       0|        NULL|        NULL|    NULL|         NULL|             NULL|\n",
      "|1987|   10|         2|        5|    918|       915|   1017|      1001|           PS|     1451|   NULL|               59|            46|   NULL|      16|       3|   SFO| RNO|     192|  NULL|   NULL|        0|            NULL|       0|        NULL|        NULL|    NULL|         NULL|             NULL|\n",
      "|1987|   10|         3|        6|    928|       915|   1037|      1001|           PS|     1451|   NULL|               69|            46|   NULL|      36|      13|   SFO| RNO|     192|  NULL|   NULL|        0|            NULL|       0|        NULL|        NULL|    NULL|         NULL|             NULL|\n",
      "|1987|   10|         4|        7|    914|       915|   1003|      1001|           PS|     1451|   NULL|               49|            46|   NULL|       2|      -1|   SFO| RNO|     192|  NULL|   NULL|        0|            NULL|       0|        NULL|        NULL|    NULL|         NULL|             NULL|\n",
      "|1987|   10|         5|        1|   1042|       915|   1129|      1001|           PS|     1451|   NULL|               47|            46|   NULL|      88|      87|   SFO| RNO|     192|  NULL|   NULL|        0|            NULL|       0|        NULL|        NULL|    NULL|         NULL|             NULL|\n",
      "|1987|   10|         6|        2|    934|       915|   1024|      1001|           PS|     1451|   NULL|               50|            46|   NULL|      23|      19|   SFO| RNO|     192|  NULL|   NULL|        0|            NULL|       0|        NULL|        NULL|    NULL|         NULL|             NULL|\n",
      "+----+-----+----------+---------+-------+----------+-------+----------+-------------+---------+-------+-----------------+--------------+-------+--------+--------+------+----+--------+------+-------+---------+----------------+--------+------------+------------+--------+-------------+-----------------+\n",
      "only showing top 20 rows\n",
      "\n"
     ]
    }
   ],
   "source": [
    "from pyspark.sql.functions import col, when\n",
    "\n",
    "# Iterate over all columns in the DataFrame\n",
    "for column in df.columns:\n",
    "    df = df.withColumn(column, when(col(column) == \"NA\", None).otherwise(col(column)))\n",
    "\n",
    "df.show()"
   ]
  },
  {
   "cell_type": "code",
   "execution_count": 68,
   "id": "baba2d3d-2306-44ab-a74d-095f157c2e07",
   "metadata": {
    "tags": []
   },
   "outputs": [
    {
     "name": "stdout",
     "output_type": "stream",
     "text": [
      "+----+-----+----------+---------+-------+----------+-------+----------+-------------+---------+-------+-----------------+--------------+-------+--------+--------+------+----+--------+-------+-------+---------+----------------+--------+------------+------------+--------+-------------+-----------------+\n",
      "|Year|Month|DayofMonth|DayOfWeek|DepTime|CRSDepTime|ArrTime|CRSArrTime|UniqueCarrier|FlightNum|TailNum|ActualElapsedTime|CRSElapsedTime|AirTime|ArrDelay|DepDelay|Origin|Dest|Distance| TaxiIn|TaxiOut|Cancelled|CancellationCode|Diverted|CarrierDelay|WeatherDelay|NASDelay|SecurityDelay|LateAircraftDelay|\n",
      "+----+-----+----------+---------+-------+----------+-------+----------+-------------+---------+-------+-----------------+--------------+-------+--------+--------+------+----+--------+-------+-------+---------+----------------+--------+------------+------------+--------+-------------+-----------------+\n",
      "|   0|    0|         0|        0|  19685|         0|  23500|         0|            0|        0|1311826|            23500|             0|1311826|   23500|   19685|     0|   0|    1015|1311826|1311826|        0|         1311826|       0|     1311826|     1311826| 1311826|      1311826|          1311826|\n",
      "+----+-----+----------+---------+-------+----------+-------+----------+-------------+---------+-------+-----------------+--------------+-------+--------+--------+------+----+--------+-------+-------+---------+----------------+--------+------------+------------+--------+-------------+-----------------+\n",
      "\n"
     ]
    }
   ],
   "source": [
    "from pyspark.sql.functions import col\n",
    "\n",
    "# Contar valores NA por columna\n",
    "df.select([count(when(col(c).isNull(), c)).alias(c) for c in df.columns]).show()"
   ]
  },
  {
   "cell_type": "code",
   "execution_count": 52,
   "id": "e1ee0a15-f29b-461b-a029-07104055fa09",
   "metadata": {
    "tags": []
   },
   "outputs": [
    {
     "name": "stdout",
     "output_type": "stream",
     "text": [
      "['Year', 'Month', 'DayofMonth', 'DayOfWeek', 'DepTime', 'CRSDepTime', 'ArrTime', 'CRSArrTime', 'UniqueCarrier', 'FlightNum', 'TailNum', 'ActualElapsedTime', 'CRSElapsedTime', 'AirTime', 'ArrDelay', 'DepDelay', 'Origin', 'Dest', 'Distance', 'TaxiIn', 'TaxiOut', 'Cancelled', 'CancellationCode', 'Diverted', 'CarrierDelay', 'WeatherDelay', 'NASDelay', 'SecurityDelay', 'LateAircraftDelay']\n"
     ]
    }
   ],
   "source": [
    "# Mostrar las columnas del DataFrame\n",
    "print(df.columns)"
   ]
  },
  {
   "cell_type": "code",
   "execution_count": 53,
   "id": "46a860ae-2232-471a-9cdf-db8f21a51dc9",
   "metadata": {
    "tags": []
   },
   "outputs": [
    {
     "name": "stdout",
     "output_type": "stream",
     "text": [
      "root\n",
      " |-- Year: string (nullable = true)\n",
      " |-- Month: string (nullable = true)\n",
      " |-- DayofMonth: string (nullable = true)\n",
      " |-- DayOfWeek: string (nullable = true)\n",
      " |-- DepTime: string (nullable = true)\n",
      " |-- CRSDepTime: string (nullable = true)\n",
      " |-- ArrTime: string (nullable = true)\n",
      " |-- CRSArrTime: string (nullable = true)\n",
      " |-- UniqueCarrier: string (nullable = true)\n",
      " |-- FlightNum: string (nullable = true)\n",
      " |-- TailNum: string (nullable = true)\n",
      " |-- ActualElapsedTime: string (nullable = true)\n",
      " |-- CRSElapsedTime: string (nullable = true)\n",
      " |-- AirTime: string (nullable = true)\n",
      " |-- ArrDelay: string (nullable = true)\n",
      " |-- DepDelay: string (nullable = true)\n",
      " |-- Origin: string (nullable = true)\n",
      " |-- Dest: string (nullable = true)\n",
      " |-- Distance: string (nullable = true)\n",
      " |-- TaxiIn: string (nullable = true)\n",
      " |-- TaxiOut: string (nullable = true)\n",
      " |-- Cancelled: string (nullable = true)\n",
      " |-- CancellationCode: string (nullable = true)\n",
      " |-- Diverted: string (nullable = true)\n",
      " |-- CarrierDelay: string (nullable = true)\n",
      " |-- WeatherDelay: string (nullable = true)\n",
      " |-- NASDelay: string (nullable = true)\n",
      " |-- SecurityDelay: string (nullable = true)\n",
      " |-- LateAircraftDelay: string (nullable = true)\n",
      "\n"
     ]
    }
   ],
   "source": [
    "df.printSchema()"
   ]
  },
  {
   "cell_type": "markdown",
   "id": "6c0e748d-08b5-4a81-bd26-5eb6b287c520",
   "metadata": {},
   "source": [
    "# Preprocessing\n",
    "- eliminate unnecesary variables\n",
    "- missing and duplicates values\n",
    "- see correlation\n",
    "- variable transformation\n",
    "- variable creation"
   ]
  },
  {
   "cell_type": "code",
   "execution_count": 110,
   "id": "19529b89-a015-4f2a-a06f-1b699d5b9cb1",
   "metadata": {
    "tags": []
   },
   "outputs": [],
   "source": [
    "# columns to eliminate\n",
    "columns = [\n",
    "    \"ArrTime\", \n",
    "    \"ActualElapsedTime\", \n",
    "    \"AirTime\", \n",
    "    \"TaxiIn\", \n",
    "    \"Diverted\", \n",
    "    \"CarrierDelay\", \n",
    "    \"WeatherDelay\", \n",
    "    \"NASDelay\", \n",
    "    \"SecurityDelay\", \n",
    "    \"LateAircraftDelay\"\n",
    "]\n",
    "\n",
    "# Eliminate columns\n",
    "df = df.drop(*columns)\n"
   ]
  },
  {
   "cell_type": "code",
   "execution_count": 70,
   "id": "35883cdd-2edc-47ba-a780-e30efd94a0ed",
   "metadata": {
    "tags": []
   },
   "outputs": [
    {
     "name": "stdout",
     "output_type": "stream",
     "text": [
      "root\n",
      " |-- Year: string (nullable = true)\n",
      " |-- Month: string (nullable = true)\n",
      " |-- DayofMonth: string (nullable = true)\n",
      " |-- DayOfWeek: string (nullable = true)\n",
      " |-- DepTime: string (nullable = true)\n",
      " |-- CRSDepTime: string (nullable = true)\n",
      " |-- CRSArrTime: string (nullable = true)\n",
      " |-- UniqueCarrier: string (nullable = true)\n",
      " |-- FlightNum: string (nullable = true)\n",
      " |-- TailNum: string (nullable = true)\n",
      " |-- CRSElapsedTime: string (nullable = true)\n",
      " |-- ArrDelay: string (nullable = true)\n",
      " |-- DepDelay: string (nullable = true)\n",
      " |-- Origin: string (nullable = true)\n",
      " |-- Dest: string (nullable = true)\n",
      " |-- Distance: string (nullable = true)\n",
      " |-- TaxiOut: string (nullable = true)\n",
      " |-- Cancelled: string (nullable = true)\n",
      " |-- CancellationCode: string (nullable = true)\n",
      "\n"
     ]
    }
   ],
   "source": [
    "df.printSchema()"
   ]
  },
  {
   "cell_type": "code",
   "execution_count": 111,
   "id": "f07a7991-2e7e-4bbc-8b42-060f43af487c",
   "metadata": {
    "tags": []
   },
   "outputs": [],
   "source": [
    "# columns to eliminate\n",
    "columns = [\n",
    "    \"Year\",\n",
    "    \"TailNum\",\n",
    "    \"TaxiOut\",\n",
    "    \"Cancelled\",\n",
    "    \"CancellationCode\"  \n",
    "]\n",
    "\n",
    "# Eliminate columns\n",
    "df = df.drop(*columns)"
   ]
  },
  {
   "cell_type": "code",
   "execution_count": 98,
   "id": "c332197c-6b29-42bd-9eb4-e791713a1d16",
   "metadata": {
    "tags": []
   },
   "outputs": [
    {
     "name": "stdout",
     "output_type": "stream",
     "text": [
      "root\n",
      " |-- Month: string (nullable = true)\n",
      " |-- DayofMonth: string (nullable = true)\n",
      " |-- DayOfWeek: string (nullable = true)\n",
      " |-- DepTime: string (nullable = true)\n",
      " |-- CRSDepTime: string (nullable = true)\n",
      " |-- CRSArrTime: string (nullable = true)\n",
      " |-- UniqueCarrier: string (nullable = true)\n",
      " |-- FlightNum: string (nullable = true)\n",
      " |-- CRSElapsedTime: string (nullable = true)\n",
      " |-- ArrDelay: string (nullable = true)\n",
      " |-- DepDelay: string (nullable = true)\n",
      " |-- Origin: string (nullable = true)\n",
      " |-- Dest: string (nullable = true)\n",
      " |-- Distance: string (nullable = true)\n",
      "\n"
     ]
    }
   ],
   "source": [
    "df.printSchema()"
   ]
  },
  {
   "cell_type": "markdown",
   "id": "6081fe72-7891-41b4-8766-e90e8691304d",
   "metadata": {},
   "source": [
    "## Missing values"
   ]
  },
  {
   "cell_type": "code",
   "execution_count": 112,
   "id": "4648b34a-0027-4839-9895-917333067aef",
   "metadata": {
    "tags": []
   },
   "outputs": [
    {
     "name": "stdout",
     "output_type": "stream",
     "text": [
      "+-----+----------+---------+-------+----------+----------+-------------+---------+--------------+--------+--------+------+----+--------+\n",
      "|Month|DayofMonth|DayOfWeek|DepTime|CRSDepTime|CRSArrTime|UniqueCarrier|FlightNum|CRSElapsedTime|ArrDelay|DepDelay|Origin|Dest|Distance|\n",
      "+-----+----------+---------+-------+----------+----------+-------------+---------+--------------+--------+--------+------+----+--------+\n",
      "|    0|         0|        0|  19685|         0|         0|            0|        0|             0|   23500|   19685|     0|   0|    1015|\n",
      "+-----+----------+---------+-------+----------+----------+-------------+---------+--------------+--------+--------+------+----+--------+\n",
      "\n"
     ]
    }
   ],
   "source": [
    "# Contar valores NA por columna\n",
    "df.select([count(when(col(c).isNull(), c)).alias(c) for c in df.columns]).show()"
   ]
  },
  {
   "cell_type": "code",
   "execution_count": 74,
   "id": "87379505-3215-428c-8bbe-7b734213ae6b",
   "metadata": {
    "tags": []
   },
   "outputs": [
    {
     "name": "stdout",
     "output_type": "stream",
     "text": [
      "+--------+\n",
      "|ArrDelay|\n",
      "+--------+\n",
      "|      -4|\n",
      "|     125|\n",
      "|     -30|\n",
      "|   -1219|\n",
      "|       7|\n",
      "|      51|\n",
      "|     124|\n",
      "|     169|\n",
      "|     205|\n",
      "|      -1|\n",
      "|      15|\n",
      "|      54|\n",
      "|     155|\n",
      "|     154|\n",
      "|     132|\n",
      "|     317|\n",
      "|     200|\n",
      "|     428|\n",
      "|      11|\n",
      "|      -6|\n",
      "+--------+\n",
      "only showing top 20 rows\n",
      "\n"
     ]
    }
   ],
   "source": [
    "df.select(col(\"ArrDelay\")).distinct().show()"
   ]
  },
  {
   "cell_type": "code",
   "execution_count": 113,
   "id": "b0df10f9-d1d4-4d2a-b254-828a9caac563",
   "metadata": {
    "tags": []
   },
   "outputs": [
    {
     "name": "stdout",
     "output_type": "stream",
     "text": [
      "+-----+----------+---------+--------------------+----------+----------+-------------+---------+--------------+--------------------+--------------------+------+----+--------------------+\n",
      "|Month|DayofMonth|DayOfWeek|             DepTime|CRSDepTime|CRSArrTime|UniqueCarrier|FlightNum|CRSElapsedTime|            ArrDelay|            DepDelay|Origin|Dest|            Distance|\n",
      "+-----+----------+---------+--------------------+----------+----------+-------------+---------+--------------+--------------------+--------------------+------+----+--------------------+\n",
      "|  0.0|       0.0|      0.0|0.015005801074227831|       0.0|       0.0|          0.0|      0.0|           0.0|0.017913961150335486|0.015005801074227831|   0.0| 0.0|7.737306624506603E-4|\n",
      "+-----+----------+---------+--------------------+----------+----------+-------------+---------+--------------+--------------------+--------------------+------+----+--------------------+\n",
      "\n"
     ]
    }
   ],
   "source": [
    "# Total number of rows in the DataFrame\n",
    "total_rows = df.count()\n",
    "\n",
    "# Calculate the percentage of null values for each column\n",
    "null_percentage = df.select([(count(when(col(c).isNull(), c)) / total_rows).alias(c) for c in df.columns])\n",
    "\n",
    "# Show the percentage of null values for each column\n",
    "null_percentage.show()"
   ]
  },
  {
   "cell_type": "code",
   "execution_count": 114,
   "id": "9a5ff12d-d8ee-40b4-aa65-441f1e07c540",
   "metadata": {
    "tags": []
   },
   "outputs": [
    {
     "data": {
      "text/plain": [
       "1287333"
      ]
     },
     "execution_count": 114,
     "metadata": {},
     "output_type": "execute_result"
    }
   ],
   "source": [
    "# Eliminar filas con al menos un valor faltante\n",
    "df = df.dropna()\n",
    "\n",
    "# Verificar que las filas con valores faltantes se han eliminado\n",
    "df.count()"
   ]
  },
  {
   "cell_type": "code",
   "execution_count": 115,
   "id": "4e061d2a-346e-44d2-8c79-f2b4009ae362",
   "metadata": {
    "tags": []
   },
   "outputs": [
    {
     "name": "stdout",
     "output_type": "stream",
     "text": [
      "+-----+----------+---------+-------+----------+----------+-------------+---------+--------------+--------+--------+------+----+--------+\n",
      "|Month|DayofMonth|DayOfWeek|DepTime|CRSDepTime|CRSArrTime|UniqueCarrier|FlightNum|CRSElapsedTime|ArrDelay|DepDelay|Origin|Dest|Distance|\n",
      "+-----+----------+---------+-------+----------+----------+-------------+---------+--------------+--------+--------+------+----+--------+\n",
      "|  0.0|       0.0|      0.0|    0.0|       0.0|       0.0|          0.0|      0.0|           0.0|     0.0|     0.0|   0.0| 0.0|     0.0|\n",
      "+-----+----------+---------+-------+----------+----------+-------------+---------+--------------+--------+--------+------+----+--------+\n",
      "\n"
     ]
    }
   ],
   "source": [
    "# Total number of rows in the DataFrame\n",
    "total_rows = df.count()\n",
    "\n",
    "# Calculate the percentage of null values for each column\n",
    "null_percentage = df.select([(count(when(col(c).isNull(), c)) / total_rows).alias(c) for c in df.columns])\n",
    "\n",
    "# Show the percentage of null values for each column\n",
    "null_percentage.show()"
   ]
  },
  {
   "cell_type": "markdown",
   "id": "9ee9a02d-dd7e-43fd-9e56-7c38ef749809",
   "metadata": {},
   "source": [
    "## Duplicates"
   ]
  },
  {
   "cell_type": "code",
   "execution_count": 116,
   "id": "a53d608a-f26a-4550-b9f9-67f0dfc32658",
   "metadata": {
    "tags": []
   },
   "outputs": [
    {
     "name": "stdout",
     "output_type": "stream",
     "text": [
      "1287333\n",
      "1287264\n",
      "There are duplicates in the DataFrame.\n",
      "+-----+----------+---------+-------+----------+----------+-------------+---------+--------------+--------+--------+------+----+--------+\n",
      "|Month|DayofMonth|DayOfWeek|DepTime|CRSDepTime|CRSArrTime|UniqueCarrier|FlightNum|CRSElapsedTime|ArrDelay|DepDelay|Origin|Dest|Distance|\n",
      "+-----+----------+---------+-------+----------+----------+-------------+---------+--------------+--------+--------+------+----+--------+\n",
      "|   10|        10|        6|   1635|      1635|      1732|           PS|     1454|            57|       8|       0|   OAK| BUR|     325|\n",
      "|   10|        20|        2|   1945|      1945|      2101|           PS|     1484|            76|       1|       0|   SFO| SAN|     447|\n",
      "|   10|         9|        5|   2057|      2016|      2132|           PS|     1486|            76|      47|      41|   OAK| SAN|     446|\n",
      "|   10|        13|        2|   2114|      2115|      2223|           PS|     1505|            68|       3|      -1|   SNA| SJC|     342|\n",
      "|   10|        18|        7|    841|       842|      1030|           PS|     1517|           108|       3|      -1|   SFO| GEG|     733|\n",
      "|   10|        19|        1|    914|       842|      1030|           PS|     1517|           108|      52|      32|   SFO| GEG|     733|\n",
      "|   10|        27|        2|   1129|      1130|      1234|           PS|     1524|            64|      22|      -1|   SFO| BUR|     326|\n",
      "|   10|         4|        7|   1806|      1800|      1911|           PS|     1526|            71|       6|       6|   SFO| LAX|     337|\n",
      "|   10|        27|        2|   1804|      1800|      1911|           PS|     1526|            71|      21|       4|   SFO| LAX|     337|\n",
      "|   10|        11|        7|   1832|      1830|      1931|           PS|     1538|            61|       8|       2|   SFO| BUR|     326|\n",
      "|   10|        21|        3|   2007|      2010|      2126|           PS|     1547|            76|      11|      -3|   TUS| LAX|     451|\n",
      "|   10|        16|        5|   1008|      1010|      1117|           PS|     1551|            67|      27|      -2|   BUR| SMF|     358|\n",
      "|   10|        23|        5|   1811|      1810|      1858|           PS|     1566|            48|      10|       1|   BUR| LAS|     223|\n",
      "|   10|        31|        6|   1705|      1635|      1800|           PS|     1577|            85|      19|      30|   SAN| SFO|     447|\n",
      "|   10|        18|        7|   2034|      2035|      2157|           PS|     1589|            82|       3|      -1|   SAN| SMF|     480|\n",
      "|   10|        28|        3|   1235|      1230|      1349|           PS|     1592|            79|      12|       5|   PDX| SMF|     479|\n",
      "|   10|         8|        4|   1042|      1005|      1126|           PS|     1593|            81|      39|      37|   SMF| PDX|     479|\n",
      "|   10|        12|        1|   1004|      1005|      1126|           PS|     1593|            81|       0|      -1|   SMF| PDX|     479|\n",
      "|   10|        19|        1|    954|       955|      1105|           PS|     1603|            70|      -2|      -1|   SNA| SJC|     342|\n",
      "|   10|        27|        2|   2145|      2120|      2216|           PS|     1663|            56|      29|      25|   BUR| SJC|     296|\n",
      "+-----+----------+---------+-------+----------+----------+-------------+---------+--------------+--------+--------+------+----+--------+\n",
      "only showing top 20 rows\n",
      "\n"
     ]
    }
   ],
   "source": [
    "# Check for duplicates and show the results\n",
    "print(df.count())\n",
    "df = df.dropDuplicates()\n",
    "print(df.count())\n",
    "if df.count() > 0:\n",
    "    print(\"There are duplicates in the DataFrame.\")\n",
    "    df.show()\n",
    "else:\n",
    "    print(\"No duplicates found in the DataFrame.\")"
   ]
  },
  {
   "cell_type": "markdown",
   "id": "882aec0f-ac1f-4104-bb46-2911e52015de",
   "metadata": {},
   "source": [
    "## Correlation"
   ]
  },
  {
   "cell_type": "code",
   "execution_count": null,
   "id": "97708e8b-3193-4499-8ee3-5da8f5c535bf",
   "metadata": {},
   "outputs": [],
   "source": []
  },
  {
   "cell_type": "markdown",
   "id": "d694f480-0a4f-4bd8-888e-1571a67c45a0",
   "metadata": {},
   "source": [
    "## Variable transformation"
   ]
  },
  {
   "cell_type": "code",
   "execution_count": null,
   "id": "096b53ac-d091-49c6-b989-07346ac53b4f",
   "metadata": {},
   "outputs": [],
   "source": []
  },
  {
   "cell_type": "markdown",
   "id": "4dbe2739-b21b-4f0e-a506-ab6d6e834374",
   "metadata": {},
   "source": [
    "## Variable creation"
   ]
  },
  {
   "cell_type": "code",
   "execution_count": null,
   "id": "1abee2f2-cce6-4102-ac53-295b123f6327",
   "metadata": {},
   "outputs": [],
   "source": []
  },
  {
   "cell_type": "markdown",
   "id": "6b4ea91b-eed6-4c75-a259-574b91ae2856",
   "metadata": {},
   "source": [
    "# Modeling"
   ]
  },
  {
   "cell_type": "code",
   "execution_count": null,
   "id": "6044f3cc-7adc-436e-ae23-b23ec00537b2",
   "metadata": {},
   "outputs": [],
   "source": []
  },
  {
   "cell_type": "markdown",
   "id": "30c8d2ab-1654-4868-9e55-1af0ef9d4ae8",
   "metadata": {},
   "source": [
    "# Validation"
   ]
  },
  {
   "cell_type": "code",
   "execution_count": null,
   "id": "97493a44-4e9f-447c-b82b-5ba63fbf39be",
   "metadata": {},
   "outputs": [],
   "source": []
  }
 ],
 "metadata": {
  "kernelspec": {
   "display_name": "pyspark_venv",
   "language": "python",
   "name": "pyspark_venv"
  },
  "language_info": {
   "codemirror_mode": {
    "name": "ipython",
    "version": 3
   },
   "file_extension": ".py",
   "mimetype": "text/x-python",
   "name": "python",
   "nbconvert_exporter": "python",
   "pygments_lexer": "ipython3",
   "version": "3.12.1"
  }
 },
 "nbformat": 4,
 "nbformat_minor": 5
}
